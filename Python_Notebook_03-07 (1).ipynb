{
 "cells": [
  {
   "cell_type": "markdown",
   "metadata": {},
   "source": [
    "# What are the basic fundamental concepts of programming?"
   ]
  },
  {
   "cell_type": "markdown",
   "metadata": {},
   "source": [
    "20-06-23"
   ]
  },
  {
   "cell_type": "markdown",
   "metadata": {},
   "source": [
    "Irrespective of the programming language you choose to learn, the basic concepts of programming are similar across languages. Some of these concepts include:"
   ]
  },
  {
   "cell_type": "markdown",
   "metadata": {},
   "source": [
    "* Variable Declaration\n",
    "* Basic Syntax\n",
    "* Data Type and Structures\n",
    "* Flow Control Structures (Conditionals and loops)\n",
    "* Functional Programming\n",
    "* Object-Oriented Programming\n",
    "* Debugging\n",
    "* IDEs and Coding Environments"
   ]
  },
  {
   "cell_type": "markdown",
   "metadata": {},
   "source": [
    "In the next section of this shot, you will be given a brief introduction to these concepts.\n",
    "\n",
    "**Variable declaration**\n",
    "\n",
    "Variables are containers for storing data values, a memory location for a data type. Variables are created using a declaration or keyword that varies across languages.\n",
    "\n",
    "Variable names are usually alphanumeric, that is, they contain a-z and 0-9. They can also include special characters like underscore or the dollar sign.\n",
    "\n",
    "Variables can hold values of any data type supported by the programming language. This value may change during program execution."
   ]
  },
  {
   "cell_type": "markdown",
   "metadata": {},
   "source": [
    "**Basic syntax**\n",
    "\n",
    "Every programming language has its syntax, and you must learn the fundamental syntax of the language you are learning.\n",
    "\n",
    "Syntax refers to the set of rules that define the structure of a language. It is almost impossible to read or understand a programming language without its syntax.\n",
    "\n",
    "For example, let us declare a variable named greet and assign the value “Hello World” to it:\n",
    "\n",
    "**Python** greet = \"Hello World\"\n",
    "\n",
    "**C++** :\n",
    "\n",
    "#include <iostream>\n",
    "using namespace std;\n",
    "\n",
    "int main() {\n",
    "  // your code goes here\n",
    "  string greet;\n",
    "  greet = \"Hello World\";\n",
    "  cout << greet;\n",
    "  return 0;\n",
    "}"
   ]
  },
  {
   "cell_type": "markdown",
   "metadata": {},
   "source": [
    "**Data types and structures.**\n",
    "\n",
    "Data types refer to the classification of data. The most common data types include:\n",
    "\n",
    "* String\n",
    "* Boolean (true or false)\n",
    "* Numbers, which includes integers (whole numbers from 1) and floating-point numbers (decimal-base)\n",
    "* Characters (includes single alphabets or numbers)\n",
    "* Arrays (a collection of data, usually of the same data type)\n",
    "\n",
    "A Data Structure is a collection of data values. These structures include operations that can be applied to that data. Data structures are important in computer programming for organizing, managing, and storing data quickly and efficiently.\n",
    "\n",
    "Some common types of data structures include:\n",
    "\n",
    "Stacks\n",
    "Heaps\n",
    "Trees\n",
    "Linked lists\n",
    "Queues\n",
    "Arrays\n",
    "Tables\n",
    "Graphs\n",
    "Flow control structures\n",
    "Flow Control Structures are the fundamental components of computer programs. They are commands that allow a program to “decide” to take one direction or another."
   ]
  },
  {
   "cell_type": "markdown",
   "metadata": {},
   "source": [
    "There are three basic types of control structures: sequential, selection, and iteration.\n",
    "\n",
    "**Sequential**\n",
    "The most basic control flow is sequential control flow. It involves the execution of code statements one after the other. A real-world example is following a cooking recipe.\n",
    "\n",
    "**Selection (conditionals)**\n",
    "The basic premise of selection flow control is, the computer decides what action to perform based on the result of a test or condition equalling true or false.\n",
    "\n",
    "**Iteration (Loops)**\n",
    "A loop is a programming structure that allows a statement or block of code to be run repeatedly until a specified condition is no longer true (will return Boolean, true or false). It is one of the most powerful and fundamental programming concepts."
   ]
  },
  {
   "cell_type": "markdown",
   "metadata": {},
   "source": [
    "**Functional programming**\n",
    "\n",
    "Functions are containers that take in a set of inputs and return an output. It is not required for a function to return a value. Pure functions will always give the same result for the same set of inputs.\n",
    "\n",
    "Functional Programming is a straightforward method of building software that involves using pure functions. This method eliminates the occurrence of data mutation or side effects."
   ]
  },
  {
   "cell_type": "markdown",
   "metadata": {},
   "source": [
    "**Object-oriented programming**"
   ]
  },
  {
   "cell_type": "markdown",
   "metadata": {},
   "source": [
    "**Object-Oriented Programming (OOP)**is a programming concept that revolves around ‘objects’ and ‘methods’.\n",
    "\n",
    "There are four principles of OOP:\n",
    "\n",
    "* Inheritance\n",
    "* Polymorphism\n",
    "* Abstraction\n",
    "* Encapsulation"
   ]
  },
  {
   "cell_type": "markdown",
   "metadata": {},
   "source": [
    "**Debugging**\n",
    "\n",
    "Debugging is a crucial skill. It involves detecting and removing existing and potential errors, defects, or ‘loopholes’ in one’s code."
   ]
  },
  {
   "cell_type": "markdown",
   "metadata": {},
   "source": [
    "**IDEs and Coding Environments**"
   ]
  },
  {
   "cell_type": "markdown",
   "metadata": {},
   "source": [
    "IDE stands for Integrated Development Environment – they are applications programmers use to write code and organize text groups. It increases a programmer’s efficiency and productivity, and has added features like code completion, code compilation, debugging, syntax highlighting, etc."
   ]
  },
  {
   "cell_type": "markdown",
   "metadata": {},
   "source": [
    "Some common examples of IDE’s are:\n",
    "\n",
    "Visual Studio code,\n",
    "Jupyter Notebook"
   ]
  },
  {
   "cell_type": "markdown",
   "metadata": {},
   "source": [
    "## Always remember to write clean, readable codes."
   ]
  },
  {
   "cell_type": "markdown",
   "metadata": {},
   "source": [
    "**Python-Overview**\n",
    "\n",
    "* Python is a programming language that is easy to read and use. It is used in various industries such as web development, data science, and machine learning due to its simplicity and popularity. In this tutorial, we will introduce Python, explain the industries where it is used, discuss why it is popular, and highlight its advantages."
   ]
  },
  {
   "cell_type": "markdown",
   "metadata": {},
   "source": [
    "* Python was created in the late 1980s by Guido van Rossum and was first released on Feb 20, 1991.The language is named after the Monty Python comedy group which was an old BBC television sketch series, and many examples in the documentation and tutorials use references to Monty Python sketches and movies."
   ]
  },
  {
   "cell_type": "markdown",
   "metadata": {},
   "source": [
    "Python is a popular programming language for a variety of reasons.\n",
    "\n",
    "**Easy to Learn:** Python is known for its simplicity and readability, which makes it easy to learn for both beginners who are very keen to learn python. The language has a straightforward syntax same as writing english, and its code is often described as \"executable pseudocode\" that is easy to read and understand which is one of the reason anyone can start learning Python without having any other prior knowledge of programming.\n",
    "\n",
    "**Versatile:** Python is a programming language that can be used for many applications such as web development, data science, and machine learning. It has a large standard library with built-in functions and modules, making it possible to write complex programs with minimal code. Also, programmers can publish their own modules.\n",
    "Large Community: Python has a large and active community of developers, which means that there are many resources available for learning and using the language.There are many libraries and frameworks available for getting understanding of advanced concepts.\n",
    "\n",
    "**High-Level Language:** Python is a high-level language, which means it simplifies many of the low-level details of computer programming, such as memory management and pointer arithmetic. Python also has its own garbage collector, making it easier to write and read code, and can reduce the time needed to develop and maintain software.\n",
    "Open Source: Python is a language that anyone can use, change, and give away for free. Many developers like to use it because they can make it work just the way they want it to.\n",
    "\n",
    "\n",
    "* Python has multiple libraries, frameworks and packages: Python includes numerous amount of libraries which can be used just by importing. A number of popular and powerful Python libraries are available, including NumPy and Pandas for Data Science, Matplotlib and Seaborn for Data Visualization, and sklearn, Keras, PyTorch, etc., for Machine Learning."
   ]
  },
  {
   "cell_type": "markdown",
   "metadata": {},
   "source": [
    "Python is widely used in industry for a variety of applications, thanks to its versatility and ease of use. Here are some of the most common ways that Python is used in industry:\n",
    "\n",
    "1.Web Development \\\n",
    "2.Data Science \\\n",
    "3.Machine Learning \\ Scientific Computing \\\n",
    "4.Automation and Scripting \\\n",
    "5.Game Development \\\n",
    "6.Desktop Applications\n",
    "\n",
    "\n",
    "Python is widely used because:\n",
    "\n",
    "* It is easier to read, write, and has shorter code compared to languages like C++ or Java.\n",
    "* It supports multiple programming paradigms, including object-oriented, imperative, functional, and procedural programming.\n",
    "* It has extensive support libraries such as Django for web development and Pandas for data analytics.\n",
    "* It is a dynamically typed language, meaning that data type is based on the value assigned.\n",
    "* It follows the philosophy that **\"simplicity is the best.\"**\n",
    "\n",
    "\n"
   ]
  },
  {
   "cell_type": "code",
   "execution_count": 2,
   "metadata": {
    "scrolled": false
   },
   "outputs": [
    {
     "name": "stdout",
     "output_type": "stream",
     "text": [
      "The Zen of Python, by Tim Peters\n",
      "\n",
      "Beautiful is better than ugly.\n",
      "Explicit is better than implicit.\n",
      "Simple is better than complex.\n",
      "Complex is better than complicated.\n",
      "Flat is better than nested.\n",
      "Sparse is better than dense.\n",
      "Readability counts.\n",
      "Special cases aren't special enough to break the rules.\n",
      "Although practicality beats purity.\n",
      "Errors should never pass silently.\n",
      "Unless explicitly silenced.\n",
      "In the face of ambiguity, refuse the temptation to guess.\n",
      "There should be one-- and preferably only one --obvious way to do it.\n",
      "Although that way may not be obvious at first unless you're Dutch.\n",
      "Now is better than never.\n",
      "Although never is often better than *right* now.\n",
      "If the implementation is hard to explain, it's a bad idea.\n",
      "If the implementation is easy to explain, it may be a good idea.\n",
      "Namespaces are one honking great idea -- let's do more of those!\n"
     ]
    }
   ],
   "source": [
    "import this"
   ]
  },
  {
   "cell_type": "markdown",
   "metadata": {},
   "source": [
    "# Basic Syntax"
   ]
  },
  {
   "cell_type": "markdown",
   "metadata": {},
   "source": [
    "21-06-23"
   ]
  },
  {
   "cell_type": "markdown",
   "metadata": {},
   "source": [
    "1. **Comments**: Comments in Python are used to explain the code or make notes for yourself or other developers who may work on the code in the future. Comments are not executed by the Python interpreter and are ignored during the execution of the program.They start with a # symbol."
   ]
  },
  {
   "cell_type": "code",
   "execution_count": 3,
   "metadata": {
    "scrolled": true
   },
   "outputs": [
    {
     "name": "stdout",
     "output_type": "stream",
     "text": [
      "Hello, Let's begin your Journey for becoming a Data Scientist!\n"
     ]
    }
   ],
   "source": [
    "# **This is a comment**\n",
    "\n",
    "print(\"Hello, Let's begin your Journey for becoming a Data Scientist!\")"
   ]
  },
  {
   "cell_type": "markdown",
   "metadata": {},
   "source": [
    "2. **Variables**: In Python, variables are used to store values or we can say we allocate memory to a value. A variable is a container that holds a value, such as a number, string, or list."
   ]
  },
  {
   "cell_type": "markdown",
   "metadata": {},
   "source": [
    "One of the fundamental concepts in Python is variables. Variables are used to store information and give it a name so that it can be referenced later in the code. They can be defined using a single equals sign, and they can hold many different types of data, such as strings, integers, and booleans. In this tutorial we will learn about variables in Python in depth."
   ]
  },
  {
   "cell_type": "code",
   "execution_count": 1,
   "metadata": {},
   "outputs": [],
   "source": [
    "A  =  10"
   ]
  },
  {
   "cell_type": "code",
   "execution_count": 2,
   "metadata": {},
   "outputs": [
    {
     "name": "stdout",
     "output_type": "stream",
     "text": [
      "10\n"
     ]
    }
   ],
   "source": [
    "print(A)"
   ]
  },
  {
   "cell_type": "code",
   "execution_count": 10,
   "metadata": {},
   "outputs": [],
   "source": [
    "A = 5  #variable\n",
    "\n",
    "B = \"Andrew Ng\" #variable"
   ]
  },
  {
   "cell_type": "code",
   "execution_count": 8,
   "metadata": {},
   "outputs": [
    {
     "name": "stdout",
     "output_type": "stream",
     "text": [
      "Andrew Ng\n"
     ]
    }
   ],
   "source": [
    "print(B)"
   ]
  },
  {
   "cell_type": "code",
   "execution_count": 11,
   "metadata": {
    "scrolled": true
   },
   "outputs": [
    {
     "name": "stdout",
     "output_type": "stream",
     "text": [
      "5\n"
     ]
    }
   ],
   "source": [
    "print(A)"
   ]
  },
  {
   "cell_type": "markdown",
   "metadata": {},
   "source": [
    "A variable is a named storage location in a computer's memory that can hold a value, which can be changed during the execution of a program or script. It is often used to store data that may be modified by the program, such as user input, calculations, or intermediate results. There are different variables such as:\n",
    "\n",
    "Number\n",
    "String\n",
    "Boolean\n",
    "List\n",
    "Tuples\n",
    "Sets\n",
    "Dictionaries"
   ]
  },
  {
   "cell_type": "markdown",
   "metadata": {},
   "source": [
    "### Example \n",
    "Imagine that you work in a marketing agency and you've been given the task of tracking the performance of a new advertising campaign for a client's product. In order to do this, you'll need to use variables in Python to store and manipulate data. For that we need to understand how to create a variable"
   ]
  },
  {
   "cell_type": "markdown",
   "metadata": {},
   "source": [
    "* Creating a variable is a fundamental concept in programming and can be done in several ways. The simplest way is to choose a name for your variable and use the assignment operator = to assign a value to it. This process allows you to store data in memory and reference it later in your program. To create a variable in Python, use this syntax:\n",
    "                              **variable_name = value** "
   ]
  },
  {
   "cell_type": "code",
   "execution_count": 16,
   "metadata": {},
   "outputs": [],
   "source": [
    "campaign_budget = 50000"
   ]
  },
  {
   "cell_type": "code",
   "execution_count": 19,
   "metadata": {},
   "outputs": [],
   "source": [
    "impressions, clicks = 1000000, 5000"
   ]
  },
  {
   "cell_type": "code",
   "execution_count": 21,
   "metadata": {},
   "outputs": [
    {
     "data": {
      "text/plain": [
       "5000"
      ]
     },
     "execution_count": 21,
     "metadata": {},
     "output_type": "execute_result"
    }
   ],
   "source": [
    "clicks"
   ]
  },
  {
   "cell_type": "code",
   "execution_count": 20,
   "metadata": {},
   "outputs": [
    {
     "data": {
      "text/plain": [
       "1000000"
      ]
     },
     "execution_count": 20,
     "metadata": {},
     "output_type": "execute_result"
    }
   ],
   "source": [
    "impressions"
   ]
  },
  {
   "cell_type": "markdown",
   "metadata": {},
   "source": [
    "Rules for creating a variable"
   ]
  },
  {
   "cell_type": "markdown",
   "metadata": {},
   "source": [
    "* Please ensure that the name only includes letters, numbers, and underscores. No other special characters are permitted like @,#,&.\n",
    "\n",
    "* The variable name should either begin with an Uppercase(A to Z) or Lowercase(a to z) character or an underscore(_).\n",
    "\n",
    "* The name must not begin with a number.\n",
    "\n",
    "* The name should be descriptive and easy to understand.\n",
    "\n",
    "* The name is case-sensitive, which means that \"age\" and \"Age\" are two different variables."
   ]
  },
  {
   "cell_type": "code",
   "execution_count": 4,
   "metadata": {},
   "outputs": [],
   "source": [
    "A = 10"
   ]
  },
  {
   "cell_type": "code",
   "execution_count": 13,
   "metadata": {},
   "outputs": [
    {
     "name": "stdout",
     "output_type": "stream",
     "text": [
      "5\n"
     ]
    }
   ],
   "source": [
    "print(A)"
   ]
  },
  {
   "cell_type": "code",
   "execution_count": 31,
   "metadata": {},
   "outputs": [],
   "source": [
    "student_name = 'arjun'"
   ]
  },
  {
   "cell_type": "code",
   "execution_count": 19,
   "metadata": {
    "collapsed": true
   },
   "outputs": [
    {
     "data": {
      "text/plain": [
       "'Examples of Valid variable name\\nharry\\nharry_potter\\nharryPotter\\nharryPotter2'"
      ]
     },
     "execution_count": 19,
     "metadata": {},
     "output_type": "execute_result"
    }
   ],
   "source": [
    "\"\"\"Examples of Valid variable name\n",
    "harry\n",
    "harry_potter\n",
    "harryPotter\n",
    "harryPotter2\"\"\""
   ]
  },
  {
   "cell_type": "code",
   "execution_count": 20,
   "metadata": {
    "collapsed": true
   },
   "outputs": [
    {
     "data": {
      "text/plain": [
       "'Examples of InValid variable name\\n2harry   # cannot start with a number\\nharry-potter # cannot contain a hyphen\\nh@rry  # cannot contain a special character\\nharry potter #Spaces are not allowed in var names'"
      ]
     },
     "execution_count": 20,
     "metadata": {},
     "output_type": "execute_result"
    }
   ],
   "source": [
    "\"\"\"Examples of InValid variable name\n",
    "2harry   # cannot start with a number\n",
    "harry-potter # cannot contain a hyphen\n",
    "h@rry  # cannot contain a special character\n",
    "harry potter #Spaces are not allowed in var names\"\"\""
   ]
  },
  {
   "cell_type": "markdown",
   "metadata": {},
   "source": [
    "#### How to re-declare a Variable in Python\n",
    "\n",
    "In Python, you can re-declare a variable by assigning a new value to it. This is a fundamental operation in Python. Nevertheless, re-declaring a variable can cause unintended consequences, particularly if the variable is used in several places in your code. So, it is usually suggested to use new variable names rather than re-declaring current ones.If you need to redeclare a variable, make sure to thoroughly review your code for any potential issues that may arise."
   ]
  },
  {
   "cell_type": "code",
   "execution_count": 35,
   "metadata": {},
   "outputs": [
    {
     "name": "stdout",
     "output_type": "stream",
     "text": [
      "Value before re-declaring the variable value 12\n",
      "Value after re-declaring the variable value 189\n"
     ]
    }
   ],
   "source": [
    "number=12\n",
    "print(\"Value before re-declaring the variable value\", number)\n",
    "number=189\n",
    "print(\"Value after re-declaring the variable value\", number)"
   ]
  },
  {
   "cell_type": "markdown",
   "metadata": {},
   "source": [
    "#### How to assign the same value to multiple variables?\n",
    "\n",
    "To assign the same value to multiple variables, you can either use the assignment operator for each variable or a loop to assign the value to each variable. Verify that the assigned value is suitable for each variable and meets any constraints, such as data type or range, before assigning it."
   ]
  },
  {
   "cell_type": "code",
   "execution_count": 36,
   "metadata": {},
   "outputs": [],
   "source": [
    "number1=number2=number3=899"
   ]
  },
  {
   "cell_type": "code",
   "execution_count": 40,
   "metadata": {},
   "outputs": [],
   "source": [
    "number1 = 100 "
   ]
  },
  {
   "cell_type": "markdown",
   "metadata": {},
   "source": [
    "3. **Data Types**: Python is dynamically typed, which means you don't need to declare the data type of a variable before using it unlike other languages where we need to provide the data type with the variable name. Python automatically assigns the data type based on the value assigned to the variable it automatically interprets the data type of a variable."
   ]
  },
  {
   "cell_type": "markdown",
   "metadata": {},
   "source": [
    "There are several built-in data types in Python, including:\n",
    "\n",
    "* **Numbers:** In numbers we have integers, floating-point numbers, and complex numbers.\n",
    "* **Strings:** A string is a sequence of characters that is enclosed in single or double quotes, it contains text.\n",
    "* **Lists:** A list is a collection of items that are ordered and changeable.\n",
    "* **Tuples:** A tuple is similar to a list, but it is immutable, which means that its values cannot be changed.\n",
    "* **Sets:** A set is a collection of unique elements.\n",
    "* **Dictionaries:** A dictionary is a collection of key-value pairs that are unordered and changeable.\n",
    "* **Booleans:** A boolean is a data type that can only have two values: True or False."
   ]
  },
  {
   "cell_type": "markdown",
   "metadata": {},
   "source": [
    "4 .**Literal**\n",
    "\n",
    "In Python, a literal is a notation used to represent a fixed value in the code. It is a constant value that doesn't change during the execution of the program. This lesson will provide a clear understanding of Python literals."
   ]
  },
  {
   "cell_type": "markdown",
   "metadata": {},
   "source": [
    "**Types of Literals:**"
   ]
  },
  {
   "cell_type": "markdown",
   "metadata": {},
   "source": [
    " 1. **Numeric literals:** In Python, a numeric literal is a notation used to represent a fixed numeric value in the code. There are three types of numeric literals in Python: integer literals, floating-point literals, and complex literals."
   ]
  },
  {
   "cell_type": "markdown",
   "metadata": {},
   "source": [
    "**Integer literals:** Integer literals are used to represent whole numbers in Python. They can be positive, negative, or zero. Examples include:"
   ]
  },
  {
   "cell_type": "markdown",
   "metadata": {},
   "source": [
    "Example\n",
    "- 42 # positive integer\n",
    "- 123 # negative integer\n",
    "- 0 # zero"
   ]
  },
  {
   "cell_type": "markdown",
   "metadata": {},
   "source": [
    "**Floating-point literals:** Floating-point literals are used to represent decimal numbers in Python. They can be positive, negative, or zero, and can also be written using scientific notation. Examples include:"
   ]
  },
  {
   "cell_type": "markdown",
   "metadata": {},
   "source": [
    "\n",
    " - 3.14 # positive floating-point number\n",
    " - 2.5 # negative floating-point number\n",
    " - 4.2e-3 # positive floating-point number written in scientific notation\n"
   ]
  },
  {
   "cell_type": "markdown",
   "metadata": {},
   "source": [
    "**Complex literals:** Complex literals are used to represent complex numbers in Python. They consist of a real part and an imaginary part, which are both floating-point numbers. The imaginary part is denoted by the letter \"j\". Examples include:"
   ]
  },
  {
   "cell_type": "markdown",
   "metadata": {},
   "source": [
    "\n",
    " - 2 + 3j # complex number with a real part of 2 and an imaginary part of 3\n",
    " - 1.5 - 2.5j # complex number with a real part of -1.5 and an imaginary part of -2.5"
   ]
  },
  {
   "cell_type": "markdown",
   "metadata": {},
   "source": [
    "2. **String literals:** String literals represent strings of characters in Python. They are enclosed in single quotes, double quotes, or triple quotes. Examples include:"
   ]
  },
  {
   "cell_type": "markdown",
   "metadata": {},
   "source": [
    "- 'hello' # a string literal enclosed in single quotes\n",
    "- \"world\" # a string literal enclosed in double quotes\n",
    "- '''Python is a programming language.\n",
    "It is used for web development, scientific computing,\n",
    "artificial intelligence, and more.''' # a string literal enclosed in triple quotes"
   ]
  },
  {
   "cell_type": "markdown",
   "metadata": {},
   "source": [
    "3. **Boolean literals**: Boolean literals represent the truth values True and False in Python"
   ]
  },
  {
   "cell_type": "markdown",
   "metadata": {},
   "source": [
    "- True # a boolean literal representing true\n",
    "- False # a boolean literal representing false"
   ]
  },
  {
   "cell_type": "markdown",
   "metadata": {},
   "source": [
    "4. **None literal:** The None literal represents a null value in Python."
   ]
  },
  {
   "cell_type": "markdown",
   "metadata": {},
   "source": [
    "None # a None literal representing null"
   ]
  },
  {
   "cell_type": "markdown",
   "metadata": {},
   "source": [
    "5. **Container literal:**  Container literals represent data structures that can contain other literals."
   ]
  },
  {
   "cell_type": "markdown",
   "metadata": {},
   "source": [
    "- [1, 2, 3] # a list literal containing integers\n",
    "- {'name': 'Alie', 'age': 25} # a dictionary literal containing key-value pairs\n",
    "- (1, 2, 3) # a tuple literal containing integers"
   ]
  },
  {
   "cell_type": "markdown",
   "metadata": {},
   "source": [
    "#### Casting of Variable\n",
    "\n",
    "casting of variables involves converting a variable from one data type to another, and Python has a variety of built-in functions for converting variables, including:"
   ]
  },
  {
   "cell_type": "markdown",
   "metadata": {},
   "source": [
    "To cast a variable to an integer data type, use the int() function. Here's an example:"
   ]
  },
  {
   "cell_type": "code",
   "execution_count": 58,
   "metadata": {
    "scrolled": true
   },
   "outputs": [
    {
     "name": "stdout",
     "output_type": "stream",
     "text": [
      "8\n"
     ]
    },
    {
     "data": {
      "text/plain": [
       "int"
      ]
     },
     "execution_count": 58,
     "metadata": {},
     "output_type": "execute_result"
    }
   ],
   "source": [
    "float_var = 8.5\n",
    "\n",
    "cast_to_int = int(float_var)\n",
    "\n",
    "print(cast_to_int) \n",
    "\n",
    "type(cast_to_int)"
   ]
  },
  {
   "cell_type": "markdown",
   "metadata": {},
   "source": [
    "To convert a variable to a float data type, use the float() function. See below for an example:"
   ]
  },
  {
   "cell_type": "code",
   "execution_count": 59,
   "metadata": {},
   "outputs": [
    {
     "name": "stdout",
     "output_type": "stream",
     "text": [
      "11.0\n"
     ]
    }
   ],
   "source": [
    "int_var = 11\n",
    "\n",
    "cast_to_float = float(int_var)\n",
    "\n",
    "print(cast_to_float)"
   ]
  },
  {
   "cell_type": "markdown",
   "metadata": {},
   "source": [
    "To turn a variable into a string data type, use the str() function. Here's an example:"
   ]
  },
  {
   "cell_type": "code",
   "execution_count": 33,
   "metadata": {},
   "outputs": [
    {
     "name": "stdout",
     "output_type": "stream",
     "text": [
      "76\n"
     ]
    }
   ],
   "source": [
    "int_var = 76\n",
    "\n",
    "cast_to_str = str(int_var)\n",
    "\n",
    "print(cast_to_str)  "
   ]
  },
  {
   "cell_type": "code",
   "execution_count": 60,
   "metadata": {},
   "outputs": [],
   "source": [
    "# float(int to float), int(int to float), str(float, int to  str)"
   ]
  },
  {
   "cell_type": "markdown",
   "metadata": {},
   "source": [
    "To convert a variable to its boolean data type, you can use the bool() function. Here's an example:"
   ]
  },
  {
   "cell_type": "code",
   "execution_count": 64,
   "metadata": {},
   "outputs": [
    {
     "name": "stdout",
     "output_type": "stream",
     "text": [
      "True\n"
     ]
    }
   ],
   "source": [
    "int_var = 100\n",
    "\n",
    "cast_to_bool = bool(int_var)\n",
    "\n",
    "print(cast_to_bool)"
   ]
  },
  {
   "cell_type": "code",
   "execution_count": 68,
   "metadata": {},
   "outputs": [
    {
     "name": "stdout",
     "output_type": "stream",
     "text": [
      "True\n"
     ]
    }
   ],
   "source": [
    "int_var = 'None + + '\n",
    "\n",
    "cast_to_bool = bool(int_var)\n",
    "\n",
    "print(cast_to_bool)"
   ]
  },
  {
   "cell_type": "markdown",
   "metadata": {},
   "source": [
    "### Container Literals"
   ]
  },
  {
   "cell_type": "code",
   "execution_count": 70,
   "metadata": {},
   "outputs": [],
   "source": [
    "var = 5"
   ]
  },
  {
   "cell_type": "markdown",
   "metadata": {},
   "source": [
    "**In-Built Data Structure**\n",
    "\n",
    "1. List\n",
    "2. Tuple\n",
    "3. Set\n",
    "4. Dictionary"
   ]
  },
  {
   "cell_type": "markdown",
   "metadata": {},
   "source": [
    "#### List\n",
    "\n",
    "* List can  be defined using square brackets, values  are given inside the square brackets\n",
    "* List is mutable (changeable in the existing list without  reassigning it)\n",
    "* hetrogenous (int, string, float)\n",
    "* Elements position as index to retrieve the data"
   ]
  },
  {
   "cell_type": "code",
   "execution_count": 15,
   "metadata": {},
   "outputs": [],
   "source": [
    "student_list = ['nitu', 'nisarga',]\n",
    "\n",
    "numbers_list = [1,2,3,4,5]"
   ]
  },
  {
   "cell_type": "code",
   "execution_count": 16,
   "metadata": {},
   "outputs": [
    {
     "data": {
      "text/plain": [
       "list"
      ]
     },
     "execution_count": 16,
     "metadata": {},
     "output_type": "execute_result"
    }
   ],
   "source": [
    "type(student_list)"
   ]
  },
  {
   "cell_type": "markdown",
   "metadata": {},
   "source": [
    "##### Retrieving  Values in the list\n",
    "* Using Element  Position \n",
    "* Using Slicing Method\n",
    "* In python, range start from  0 to inf\n",
    "* when we give higher inidex than available in the list , we get out of index range error\n"
   ]
  },
  {
   "cell_type": "code",
   "execution_count": 17,
   "metadata": {
    "scrolled": true
   },
   "outputs": [
    {
     "data": {
      "text/plain": [
       "3"
      ]
     },
     "execution_count": 17,
     "metadata": {},
     "output_type": "execute_result"
    }
   ],
   "source": [
    "# Element Position\n",
    "\n",
    "student_list[1]\n",
    "\n",
    "numbers_list[2]"
   ]
  },
  {
   "cell_type": "code",
   "execution_count": 120,
   "metadata": {},
   "outputs": [
    {
     "data": {
      "text/plain": [
       "[2, 3, 4, 5]"
      ]
     },
     "execution_count": 120,
     "metadata": {},
     "output_type": "execute_result"
    }
   ],
   "source": [
    "# Slicing Method\n",
    "\n",
    "## Positive Slicing (Retrieving data from left to right of the list)\n",
    "student_list[0:3]\n",
    "\n",
    "numbers_list[0:4]\n",
    "\n",
    "## Negative Slicing (Retrieving data from  right to left of the list)\n",
    "\n",
    "numbers_list[-4::]"
   ]
  },
  {
   "cell_type": "code",
   "execution_count": 123,
   "metadata": {},
   "outputs": [],
   "source": [
    "sliced_list = student_list[0:1]"
   ]
  },
  {
   "cell_type": "markdown",
   "metadata": {},
   "source": [
    "#### Manipulating the defined list\n",
    "\n",
    "* dir() will provide all the methods for the given data structure\n",
    "* Method will be always available for all the objects in the python\n",
    "* shift + Tab will provide the doc string for the func or method"
   ]
  },
  {
   "cell_type": "code",
   "execution_count": 195,
   "metadata": {},
   "outputs": [],
   "source": [
    "# Addition of one value in the list\n",
    "numbers_list.append(10)\n",
    "\n",
    "# Additon of multiple values in  the list\n",
    "numbers_list.extend([6,7,8,9,10])"
   ]
  },
  {
   "cell_type": "code",
   "execution_count": 196,
   "metadata": {},
   "outputs": [],
   "source": [
    "#Removal of values in the list\n",
    "\n",
    "# removing based on element  postion\n",
    "del numbers_list[0]\n",
    "\n",
    "# Remove based on element  value\n",
    "numbers_list.remove(5)"
   ]
  },
  {
   "cell_type": "code",
   "execution_count": 21,
   "metadata": {},
   "outputs": [],
   "source": [
    "numbers_list = [5,4,3]"
   ]
  },
  {
   "cell_type": "code",
   "execution_count": 23,
   "metadata": {},
   "outputs": [],
   "source": [
    "numbers_list.sort()"
   ]
  },
  {
   "cell_type": "code",
   "execution_count": 24,
   "metadata": {
    "scrolled": false
   },
   "outputs": [
    {
     "data": {
      "text/plain": [
       "[3, 4, 5]"
      ]
     },
     "execution_count": 24,
     "metadata": {},
     "output_type": "execute_result"
    }
   ],
   "source": [
    "numbers_list"
   ]
  },
  {
   "cell_type": "code",
   "execution_count": 18,
   "metadata": {},
   "outputs": [],
   "source": [
    "# Sorting List\n",
    "numbers_list.sort()"
   ]
  },
  {
   "cell_type": "code",
   "execution_count": 20,
   "metadata": {},
   "outputs": [
    {
     "data": {
      "text/plain": [
       "[1, 2, 3, 4, 5]"
      ]
     },
     "execution_count": 20,
     "metadata": {},
     "output_type": "execute_result"
    }
   ],
   "source": [
    "numbers_list"
   ]
  },
  {
   "cell_type": "code",
   "execution_count": 198,
   "metadata": {
    "scrolled": true
   },
   "outputs": [
    {
     "data": {
      "text/plain": [
       "10"
      ]
     },
     "execution_count": 198,
     "metadata": {},
     "output_type": "execute_result"
    }
   ],
   "source": [
    "# Pop \n",
    "numbers_list.pop()"
   ]
  },
  {
   "cell_type": "code",
   "execution_count": 202,
   "metadata": {},
   "outputs": [],
   "source": [
    "# Remove all elements\n",
    "numbers_list.clear()"
   ]
  },
  {
   "cell_type": "code",
   "execution_count": 203,
   "metadata": {},
   "outputs": [],
   "source": [
    "## Try additional  methods of list which is not covered,  use dir() function to identity methods of object"
   ]
  },
  {
   "cell_type": "markdown",
   "metadata": {},
   "source": [
    "### Set"
   ]
  },
  {
   "cell_type": "markdown",
   "metadata": {},
   "source": [
    "* stores only unique values\n",
    "* defined using {} brackets\n",
    "* mutable and heterogenous "
   ]
  },
  {
   "cell_type": "code",
   "execution_count": 44,
   "metadata": {},
   "outputs": [],
   "source": [
    "set1 = {1,2,3,4,7,8}\n",
    "\n",
    "set2 = {7,8,9,10}"
   ]
  },
  {
   "cell_type": "code",
   "execution_count": 40,
   "metadata": {
    "collapsed": true
   },
   "outputs": [
    {
     "data": {
      "text/plain": [
       "['__and__',\n",
       " '__class__',\n",
       " '__contains__',\n",
       " '__delattr__',\n",
       " '__dir__',\n",
       " '__doc__',\n",
       " '__eq__',\n",
       " '__format__',\n",
       " '__ge__',\n",
       " '__getattribute__',\n",
       " '__gt__',\n",
       " '__hash__',\n",
       " '__iand__',\n",
       " '__init__',\n",
       " '__init_subclass__',\n",
       " '__ior__',\n",
       " '__isub__',\n",
       " '__iter__',\n",
       " '__ixor__',\n",
       " '__le__',\n",
       " '__len__',\n",
       " '__lt__',\n",
       " '__ne__',\n",
       " '__new__',\n",
       " '__or__',\n",
       " '__rand__',\n",
       " '__reduce__',\n",
       " '__reduce_ex__',\n",
       " '__repr__',\n",
       " '__ror__',\n",
       " '__rsub__',\n",
       " '__rxor__',\n",
       " '__setattr__',\n",
       " '__sizeof__',\n",
       " '__str__',\n",
       " '__sub__',\n",
       " '__subclasshook__',\n",
       " '__xor__',\n",
       " 'add',\n",
       " 'clear',\n",
       " 'copy',\n",
       " 'difference',\n",
       " 'difference_update',\n",
       " 'discard',\n",
       " 'intersection',\n",
       " 'intersection_update',\n",
       " 'isdisjoint',\n",
       " 'issubset',\n",
       " 'issuperset',\n",
       " 'pop',\n",
       " 'remove',\n",
       " 'symmetric_difference',\n",
       " 'symmetric_difference_update',\n",
       " 'union',\n",
       " 'update']"
      ]
     },
     "execution_count": 40,
     "metadata": {},
     "output_type": "execute_result"
    }
   ],
   "source": [
    "dir(set1)"
   ]
  },
  {
   "cell_type": "code",
   "execution_count": 48,
   "metadata": {
    "scrolled": true
   },
   "outputs": [
    {
     "data": {
      "text/plain": [
       "{9, 10}"
      ]
     },
     "execution_count": 48,
     "metadata": {},
     "output_type": "execute_result"
    }
   ],
   "source": [
    "set2.difference(set1)"
   ]
  },
  {
   "cell_type": "code",
   "execution_count": 45,
   "metadata": {},
   "outputs": [
    {
     "data": {
      "text/plain": [
       "{1, 2, 3, 4}"
      ]
     },
     "execution_count": 45,
     "metadata": {},
     "output_type": "execute_result"
    }
   ],
   "source": [
    "set1.difference(set2)"
   ]
  },
  {
   "cell_type": "code",
   "execution_count": 46,
   "metadata": {
    "scrolled": true
   },
   "outputs": [
    {
     "data": {
      "text/plain": [
       "{7, 8}"
      ]
     },
     "execution_count": 46,
     "metadata": {},
     "output_type": "execute_result"
    }
   ],
   "source": [
    "set1.intersection(set2)"
   ]
  },
  {
   "cell_type": "code",
   "execution_count": 47,
   "metadata": {
    "scrolled": true
   },
   "outputs": [
    {
     "data": {
      "text/plain": [
       "{1, 2, 3, 4, 7, 8, 9, 10}"
      ]
     },
     "execution_count": 47,
     "metadata": {},
     "output_type": "execute_result"
    }
   ],
   "source": [
    "set1.union(set2)"
   ]
  },
  {
   "cell_type": "markdown",
   "metadata": {},
   "source": [
    "### Tuple"
   ]
  },
  {
   "cell_type": "markdown",
   "metadata": {},
   "source": [
    "* it is defined  using () \n",
    "* it is immutable & heterogenous"
   ]
  },
  {
   "cell_type": "code",
   "execution_count": 64,
   "metadata": {},
   "outputs": [],
   "source": [
    "tuple1 = (1,2,2,3,4)"
   ]
  },
  {
   "cell_type": "markdown",
   "metadata": {},
   "source": [
    "### Dictionary"
   ]
  },
  {
   "cell_type": "markdown",
   "metadata": {},
   "source": [
    "* dictionary defined using  {key : value}\n",
    "* key should be unique, value can be single value or any data structure\n",
    "* mutable & heterogenous"
   ]
  },
  {
   "cell_type": "code",
   "execution_count": 72,
   "metadata": {},
   "outputs": [],
   "source": [
    "# Defining Dict\n",
    "Siva_dict = {'English' : 50, 'Physics' : 100, 'Maths' : 80 }\n",
    "\n",
    "Jay_dict = {'English' : 80, 'Pyhsics' : 78, 'Maths' : 95}"
   ]
  },
  {
   "cell_type": "code",
   "execution_count": 84,
   "metadata": {},
   "outputs": [],
   "source": [
    "Marks_Dict_1 = {'Siva' : [50,100,80],  'Jay' : [80,78,95]}"
   ]
  },
  {
   "cell_type": "code",
   "execution_count": 88,
   "metadata": {},
   "outputs": [],
   "source": [
    "Marks_Dict_2 = {'Siva' : {'English' : 50, 'Physics' : 100, 'Maths' : 80 }, \n",
    "                'Jay' : {'English' : 80, 'Pyhsics' : 78, 'Maths' : 95}}"
   ]
  },
  {
   "cell_type": "code",
   "execution_count": 71,
   "metadata": {},
   "outputs": [],
   "source": [
    "#Retrieving Values"
   ]
  },
  {
   "cell_type": "code",
   "execution_count": 85,
   "metadata": {},
   "outputs": [
    {
     "data": {
      "text/plain": [
       "50"
      ]
     },
     "execution_count": 85,
     "metadata": {},
     "output_type": "execute_result"
    }
   ],
   "source": [
    "Marks_Dict_1['Siva'][0]"
   ]
  },
  {
   "cell_type": "code",
   "execution_count": 94,
   "metadata": {},
   "outputs": [
    {
     "data": {
      "text/plain": [
       "dict_keys(['Siva', 'Jay'])"
      ]
     },
     "execution_count": 94,
     "metadata": {},
     "output_type": "execute_result"
    }
   ],
   "source": [
    "Marks_Dict_2.keys()"
   ]
  },
  {
   "cell_type": "code",
   "execution_count": 91,
   "metadata": {
    "scrolled": true
   },
   "outputs": [
    {
     "data": {
      "text/plain": [
       "50"
      ]
     },
     "execution_count": 91,
     "metadata": {},
     "output_type": "execute_result"
    }
   ],
   "source": [
    "Marks_Dict_2['Siva']['English']"
   ]
  },
  {
   "cell_type": "code",
   "execution_count": 73,
   "metadata": {},
   "outputs": [
    {
     "data": {
      "text/plain": [
       "50"
      ]
     },
     "execution_count": 73,
     "metadata": {},
     "output_type": "execute_result"
    }
   ],
   "source": [
    "Siva_dict['English']"
   ]
  },
  {
   "cell_type": "code",
   "execution_count": 96,
   "metadata": {},
   "outputs": [
    {
     "data": {
      "text/plain": [
       "dict_values([{'English': 50, 'Physics': 100, 'Maths': 80}, {'English': 80, 'Pyhsics': 78, 'Maths': 95}])"
      ]
     },
     "execution_count": 96,
     "metadata": {},
     "output_type": "execute_result"
    }
   ],
   "source": [
    "Marks_Dict_2.values()"
   ]
  },
  {
   "cell_type": "code",
   "execution_count": 101,
   "metadata": {},
   "outputs": [
    {
     "data": {
      "text/plain": [
       "dict_items([('Siva', {'English': 50, 'Physics': 100, 'Maths': 80}), ('Jay', {'English': 80, 'Pyhsics': 78, 'Maths': 95})])"
      ]
     },
     "execution_count": 101,
     "metadata": {},
     "output_type": "execute_result"
    }
   ],
   "source": [
    "Marks_Dict_2.items()"
   ]
  },
  {
   "cell_type": "code",
   "execution_count": 102,
   "metadata": {},
   "outputs": [],
   "source": [
    "Marks_Dict_2['Raj'] = {'English': 60, 'Physics': 89, 'Maths': 80}"
   ]
  },
  {
   "cell_type": "code",
   "execution_count": 104,
   "metadata": {
    "scrolled": true
   },
   "outputs": [
    {
     "data": {
      "text/plain": [
       "{'English': 60, 'Physics': 89, 'Maths': 80}"
      ]
     },
     "execution_count": 104,
     "metadata": {},
     "output_type": "execute_result"
    }
   ],
   "source": [
    "Marks_Dict_2.get('Raj')"
   ]
  },
  {
   "cell_type": "markdown",
   "metadata": {},
   "source": [
    "### Operators"
   ]
  },
  {
   "cell_type": "markdown",
   "metadata": {},
   "source": [
    "+ - Additions\n",
    "- - Subtraction\n",
    "/ - division\n",
    "// - floor division\n",
    "** - Power\n",
    "^ - \n",
    "\n",
    "== - Comparison\n",
    "\n",
    "& - And\n",
    "| - OR\n",
    "\n",
    "+= Loop Addition "
   ]
  },
  {
   "cell_type": "code",
   "execution_count": 134,
   "metadata": {},
   "outputs": [],
   "source": [
    "a = 10\n",
    "b = 10\n",
    "\n",
    "c = 15\n",
    "d = 20"
   ]
  },
  {
   "cell_type": "code",
   "execution_count": 143,
   "metadata": {},
   "outputs": [],
   "source": [
    "a = 10 \n",
    "\n",
    "a += 25"
   ]
  },
  {
   "cell_type": "markdown",
   "metadata": {},
   "source": [
    "## Control Statement"
   ]
  },
  {
   "cell_type": "markdown",
   "metadata": {},
   "source": [
    "* Control statements direct the flow of a Python program's execution. They introduce logic, decision-making, and looping. Key control statements in Python includes if/else, for/while, break/continue, pass Let’s get into our lesson to get a clear understanding on these concepts.\n",
    "\n",
    "* Flow control in Python is the process of controlling and directing the progression of program execution by utilizing conditional statements, iterative loops, and reusable functions. It helps to govern the logic and coherence of a program, permitting code to execute only when certain predefined conditions have been satisfied.\n",
    "\n",
    "* Flow control is fundamental for developing efficient, robust, and dependable programs. In particular, flow control allows a program to make decisions and perform repetitive tasks. Conditional statements like if-else tests enable a program to evaluate expressions and execute code only if certain conditions are true or false. Loops like for and while loops enable a program to reiterate through a block of code multiple times. Functions allow a program to encapsulate a block of code and call it from multiple locations.\n",
    "\n",
    "* Together, conditional statements, loops, and functions provide the mechanism to control the flow of a program and craft complex logic in a readable and maintainable fashion. Flow control is a foundational concept in programming that allows one to craft programs that can make judgments, perform recurring actions, and execute in a nonlinear manner. For these reasons, flow control is essential for creating Python programs that are versatile, capable, and resilient."
   ]
  },
  {
   "cell_type": "markdown",
   "metadata": {},
   "source": [
    "In Python, loops and conditional statements are used to control code execution on a specific condition. There are two types of control statements as discussed below:"
   ]
  },
  {
   "cell_type": "markdown",
   "metadata": {},
   "source": [
    "**Conditional** \n",
    "\n",
    "\"Conditional\" refers to something that is dependent on a certain condition or circumstance. In programming, a conditional statement is used to execute different code based on whether a certain condition is true or false.\n",
    "\n",
    "There are three conditional statements that will help him. Lets help him understand each one with an example."
   ]
  },
  {
   "cell_type": "code",
   "execution_count": null,
   "metadata": {},
   "outputs": [],
   "source": [
    "age = 10\n",
    "\n",
    "if age >= 18:\n",
    "    \n",
    "    print(\"You are eligible to vote\")"
   ]
  },
  {
   "cell_type": "code",
   "execution_count": 4,
   "metadata": {
    "collapsed": true
   },
   "outputs": [
    {
     "name": "stdout",
     "output_type": "stream",
     "text": [
      "x is not greater than 10\n"
     ]
    }
   ],
   "source": [
    "# if else \n",
    "\n",
    "x = 5\n",
    "if x > 10:\n",
    "    print(\"x is greater than 10\")\n",
    "else:\n",
    "    print(\"x is not greater than 10\")"
   ]
  },
  {
   "cell_type": "markdown",
   "metadata": {},
   "source": [
    "In this example, x id set to 5 and using an if else condition to test whether x is greater than 10. If x is greater than 10, it will print \"x is greater than 10\", otherwise it will print \"x is not greater than 10\"."
   ]
  },
  {
   "cell_type": "code",
   "execution_count": 24,
   "metadata": {},
   "outputs": [
    {
     "name": "stdout",
     "output_type": "stream",
     "text": [
      "B: x is less than 10\n"
     ]
    }
   ],
   "source": [
    "# if elif else condition\n",
    "\n",
    "x = 10\n",
    "\n",
    "if x > 10:\n",
    "    print(\"A : x is greater than 10\")\n",
    "    \n",
    "elif x <= 10: # Equal to should be on the righter side\n",
    "    print(\"B: x is less than 10\")\n",
    "\n",
    "else:\n",
    "    print(\"C :x == 10\")"
   ]
  },
  {
   "attachments": {
    "Screenshot_2023_02_28_at_1_45_41_PM_e667a1b1dd.png": {
     "image/png": "[encoded data removed]"
    }
   },
   "cell_type": "markdown",
   "metadata": {},
   "source": [
    "Let’s look into the problem statement to get a clear understanding:\n",
    "\n",
    "Reservation Checking in Restaurant\n",
    "\n",
    "* A restaurant manager checking if a customer has a reservation. If the customer has a reservation, they are shown to their table.\n",
    "* If not, the restaurant checks if there are any available tables.\n",
    "* If there are available tables, the customer is seated.\n",
    "* If not, the customer is told that the restaurant is fully booked and cannot accommodate them. Let's visualise this example first, and then we'll talk about it using Python code\n",
    "\n",
    "\n",
    "![Screenshot_2023_02_28_at_1_45_41_PM_e667a1b1dd.png](attachment:Screenshot_2023_02_28_at_1_45_41_PM_e667a1b1dd.png)"
   ]
  },
  {
   "cell_type": "code",
   "execution_count": 33,
   "metadata": {},
   "outputs": [],
   "source": [
    "Reservation = False\n",
    "\n",
    "Available = False"
   ]
  },
  {
   "cell_type": "code",
   "execution_count": 34,
   "metadata": {
    "scrolled": false
   },
   "outputs": [
    {
     "name": "stdout",
     "output_type": "stream",
     "text": [
      "Restaurant is Completely Booked\n"
     ]
    }
   ],
   "source": [
    "if Reservation == True:\n",
    "    print(\"Reservation is completed!\")\n",
    "    \n",
    "elif Reservation == False:\n",
    "    \n",
    "    # Sub condition/Nested if else condition\n",
    "    if Available == True: \n",
    "    # Tab space  should be included under each if/else \n",
    "        print(\"Tables are available\")\n",
    "    \n",
    "    elif Available == False:\n",
    "        print('Restaurant is Completely Booked')"
   ]
  },
  {
   "cell_type": "markdown",
   "metadata": {},
   "source": [
    "**Loops:**\n",
    "\n",
    "Loops are control structures in programming that allow a piece of code to be executed repeatedly, either for a specific number of times or until a certain condition is met."
   ]
  },
  {
   "cell_type": "code",
   "execution_count": 7,
   "metadata": {
    "collapsed": true
   },
   "outputs": [
    {
     "name": "stdout",
     "output_type": "stream",
     "text": [
      "0\n",
      "1\n",
      "2\n",
      "3\n",
      "4\n",
      "5\n",
      "6\n",
      "7\n",
      "8\n",
      "9\n",
      "10\n"
     ]
    }
   ],
   "source": [
    "# range func will provide the sequence of numbers\n",
    "for i in range(11):\n",
    "    print(i)"
   ]
  },
  {
   "cell_type": "markdown",
   "metadata": {},
   "source": [
    "Above program uses a for loop to iterate through a range of numbers from 0 to 10. For each iteration, the value of i is printed. The for loop will continue until it reaches 11, which is not included in the range."
   ]
  },
  {
   "cell_type": "code",
   "execution_count": 54,
   "metadata": {
    "collapsed": true
   },
   "outputs": [
    {
     "name": "stdout",
     "output_type": "stream",
     "text": [
      "1\n",
      "2\n",
      "3\n",
      "4\n",
      "5\n",
      "6\n",
      "7\n",
      "8\n",
      "9\n"
     ]
    }
   ],
   "source": [
    "# While Loop\n",
    "# Loop will until the condition is met\n",
    "\n",
    "num = 1\n",
    "\n",
    "while num % 10 != 0:\n",
    "    \n",
    "    print(num)\n",
    "    \n",
    "    num = num + 1"
   ]
  },
  {
   "cell_type": "markdown",
   "metadata": {},
   "source": [
    "This program prints the numbers from 1 to 10 using a while loop. The loop starts at 1 and continues until it reaches 10. The loop terminates when the value of num is greater than 10."
   ]
  },
  {
   "cell_type": "markdown",
   "metadata": {},
   "source": [
    "**Key Takeaways:**\n",
    "\n",
    "1. The if statement allows you to execute a block of code if a specified condition evaluates to True. You can use if statements to execute code only when certain conditions are met.\n",
    "2. The for statement allows you to iterate over a sequence, like a list or string, and execute a block of code once for each element in the sequence. For statements are useful when you want to repeat an action a specific number of times.\n",
    "3. The while statement allows you to execute a block of code repeatedly as long as a specified condition remains True. While statements will continue looping as long as the condition evaluates to True, so you need to ensure there is a way for the condition to eventually become False to prevent an infinite loop.\n",
    "4. To properly execute, all control statements in Python must be indented at the same level. The level of indentation determines which statements are part of the control statement block.\n",
    "5. In addition to the three main control statements, Python also supports break and continue statements. The break statement exits a for or while loop immediately. The continue statement skips the rest of the current iteration of the loop and jumps back to the top of the loop.\n",
    "6. Control statements are a fundamental part of any Python program and allow you to control the flow and logic of your code. By using the appropriate control statements, you can create complex and powerful programs in Python."
   ]
  },
  {
   "cell_type": "markdown",
   "metadata": {},
   "source": [
    "## Iterators"
   ]
  },
  {
   "cell_type": "markdown",
   "metadata": {},
   "source": [
    "Iterable is an object, that one can iterate over. It generates an Iterator when passed to iter() method. An iterator is an object, which is used to iterate over an iterable object using the __next__() method. Iterators have the __next__() method, which returns the next item of the object.\n",
    "\n",
    "Note: Every iterator is also an iterable, but not every iterable is an iterator in Python.\n",
    "\n",
    "For example, a list is iterable but a list is not an iterator. An iterator can be created from an iterable by using the function iter(). \n",
    "\n",
    "To make this possible, the class of an object needs either a method __iter__, which returns an iterator, or a __getitem__ method with sequential indexes starting with 0. "
   ]
  },
  {
   "cell_type": "markdown",
   "metadata": {},
   "source": [
    "Python’s iterators and iterables are two different but related tools that come in handy when you need to iterate over a data stream or container. Iterators power and control the iteration process, while iterables typically hold data that you want to iterate over one value at a time."
   ]
  },
  {
   "cell_type": "markdown",
   "metadata": {},
   "source": [
    "Iterators and iterables are fundamental components of Python programming, and you’ll have to deal with them in almost all your programs."
   ]
  },
  {
   "cell_type": "code",
   "execution_count": 3,
   "metadata": {},
   "outputs": [],
   "source": [
    "list1 = [1,2,3]"
   ]
  },
  {
   "cell_type": "code",
   "execution_count": 57,
   "metadata": {
    "collapsed": true
   },
   "outputs": [
    {
     "name": "stdout",
     "output_type": "stream",
     "text": [
      "1\n",
      "2\n",
      "3\n"
     ]
    }
   ],
   "source": [
    "for i in list1:\n",
    "    \n",
    "    print(i)"
   ]
  },
  {
   "cell_type": "code",
   "execution_count": 64,
   "metadata": {},
   "outputs": [],
   "source": [
    "# iter will convert the data structures into iterable objects\n",
    "\n",
    "i = iter(list1)"
   ]
  },
  {
   "cell_type": "code",
   "execution_count": 67,
   "metadata": {},
   "outputs": [
    {
     "data": {
      "text/plain": [
       "3"
      ]
     },
     "execution_count": 67,
     "metadata": {},
     "output_type": "execute_result"
    }
   ],
   "source": [
    "next(i)"
   ]
  },
  {
   "cell_type": "markdown",
   "metadata": {},
   "source": [
    "### Flow State Contollers\n",
    "### Keyword\n",
    "* break - Stopping the complete  Loop\n",
    "* continue -  Skipping  the particular loop \n",
    "* pass - Place Holder"
   ]
  },
  {
   "cell_type": "code",
   "execution_count": 80,
   "metadata": {
    "collapsed": true
   },
   "outputs": [
    {
     "name": "stdout",
     "output_type": "stream",
     "text": [
      "1\n",
      "2\n",
      "4\n"
     ]
    }
   ],
   "source": [
    "for i in [1,2,3,4,5,6,7]:\n",
    "    \n",
    "    if i == 3: \n",
    "        continue\n",
    "    elif i == 2: \n",
    "        pass\n",
    "    elif i == 5:\n",
    "        break       \n",
    "    print(i) "
   ]
  },
  {
   "cell_type": "markdown",
   "metadata": {},
   "source": [
    "### Function "
   ]
  },
  {
   "cell_type": "markdown",
   "metadata": {},
   "source": [
    "** Keyword -  Keyword used to call any specific application.\n",
    "\n",
    "* Function - User Defined Function\n",
    "* Function Keywords  - def,return\n",
    "* Function Components - syntax (def), retrun - output, parameters -  Input\n",
    "* Parameters - Positional  Parameters, Naming Parameters (recalling)"
   ]
  },
  {
   "cell_type": "code",
   "execution_count": 15,
   "metadata": {},
   "outputs": [],
   "source": [
    "# Syntax UDF\n",
    "# def  - keyword  func definition\n",
    "# add -  function name\n",
    "# a,b -  Parameters (Input)\n",
    "# return -  keyword for output\n",
    "\n",
    "## Definition of function\n",
    "def add(a,b):\n",
    "    \n",
    "# Logic you need to apply (computation)\n",
    "    result = a + b\n",
    "    \n",
    "    return result"
   ]
  },
  {
   "cell_type": "code",
   "execution_count": 14,
   "metadata": {},
   "outputs": [
    {
     "data": {
      "text/plain": [
       "4"
      ]
     },
     "execution_count": 14,
     "metadata": {},
     "output_type": "execute_result"
    }
   ],
   "source": [
    "# Recalling the function\n",
    "# Input can be given in  positional format and also in naming format\n",
    "\n",
    "# Positional parameters as input\n",
    "add(1,2)\n",
    "\n",
    "#Name parameters as input (recommended)\n",
    "add(a = 1, b = 2)\n",
    "\n",
    "# first positional then follows name parameters (not recommended)\n",
    "add(1, b = 3)"
   ]
  },
  {
   "cell_type": "code",
   "execution_count": 29,
   "metadata": {},
   "outputs": [],
   "source": [
    "## Definition of function\n",
    "## Default Values  for the input parameter\n",
    "\n",
    "def add1( a = 1,b = 5):\n",
    "    \n",
    "# Logic you need to apply (computation)\n",
    "    result = a + b\n",
    "    \n",
    "    return result"
   ]
  },
  {
   "cell_type": "code",
   "execution_count": 30,
   "metadata": {},
   "outputs": [
    {
     "name": "stdout",
     "output_type": "stream",
     "text": [
      "6\n",
      "25\n"
     ]
    }
   ],
   "source": [
    "print(add1())\n",
    "\n",
    "## Overwrite the default input argument/parameters\n",
    "print(add1(a =10, b= 15))"
   ]
  },
  {
   "cell_type": "code",
   "execution_count": 21,
   "metadata": {},
   "outputs": [],
   "source": [
    "## function with  multiple output\n",
    "\n",
    "def arithmetic_func(a = 1,b = 5):\n",
    "    \n",
    "# Logic you need to apply (computation)\n",
    "    add_result = a + b\n",
    "    sub_result = a- b\n",
    "    mul_result = a*b\n",
    "    div_result = a/b\n",
    "    \n",
    "    return add_result, sub_result, mul_result, div_result"
   ]
  },
  {
   "cell_type": "code",
   "execution_count": 41,
   "metadata": {
    "scrolled": false
   },
   "outputs": [
    {
     "data": {
      "text/plain": [
       "(6, -4, 5, 0.2)"
      ]
     },
     "execution_count": 41,
     "metadata": {},
     "output_type": "execute_result"
    }
   ],
   "source": [
    "# computational  will occur ,When you call the function\n",
    "arithmetic_func()"
   ]
  },
  {
   "cell_type": "code",
   "execution_count": 48,
   "metadata": {},
   "outputs": [],
   "source": [
    "# we will get the single value\n",
    "add_result, sub_result, mul_result, div_result = arithmetic_func()"
   ]
  },
  {
   "cell_type": "markdown",
   "metadata": {},
   "source": [
    "### Scope of Variables\n",
    "\n",
    "* Scope of variable means the validity of the variable in the environment\n",
    "\n",
    "* Global Variable - Variable can be called anywhere in the code execution.\n",
    "* Local Variable - Variable can be used only in the specific local enviroment (EX: Variable declared inside the function)"
   ]
  },
  {
   "cell_type": "code",
   "execution_count": 69,
   "metadata": {},
   "outputs": [],
   "source": [
    "## function with  multiple output\n",
    "\n",
    "def arithmetic_func(a = 1,b = 5):\n",
    "    \n",
    "# Logic you need to apply (computation)\n",
    "\n",
    "    # sum_result_1 (local variable) valid only within the function\n",
    "    \n",
    "    # Adv of local variable - variable space will be removed once the function execution is completed    \n",
    "    sum_result_1 = a + b\n",
    "    \n",
    "    return sum_result_1"
   ]
  },
  {
   "cell_type": "code",
   "execution_count": 66,
   "metadata": {},
   "outputs": [],
   "source": [
    "result = arithmetic_func()"
   ]
  },
  {
   "cell_type": "code",
   "execution_count": 84,
   "metadata": {},
   "outputs": [],
   "source": [
    "# Need to add all the even integers given in the list\n",
    "\n",
    "def list_func(list_1):\n",
    "    \n",
    "    sum_value = 0\n",
    "    \n",
    "    for i in list_1:\n",
    "        if i%2 == 0 :\n",
    "            sum_value += i\n",
    "        \n",
    "    return sum_value"
   ]
  },
  {
   "cell_type": "code",
   "execution_count": 85,
   "metadata": {
    "collapsed": true
   },
   "outputs": [
    {
     "data": {
      "text/plain": [
       "6"
      ]
     },
     "execution_count": 85,
     "metadata": {},
     "output_type": "execute_result"
    }
   ],
   "source": [
    "list_func(list_1 = [1,2,3,4])"
   ]
  },
  {
   "cell_type": "markdown",
   "metadata": {},
   "source": [
    "### Errors -  Unexpected / wrong inputs will throw error\n",
    "\n",
    "* NameError - Nameerror will occur, When undefined variable is called/used.\n",
    "* KeyError - Keyerror will  occur, when you call the key which is not available (dict- key, dataframe - columns)\n",
    "* Index Error - Index error will occur, while using positional value call and call the value out of index\n",
    "* Type Error - more relavant to data types  & will occur when we try to do unaccepted operations with specific data types \n",
    "* Syntax Error - Relavant to syntax of the code\n",
    "* Identation Error - Relavent to the identation of the code"
   ]
  },
  {
   "cell_type": "code",
   "execution_count": 91,
   "metadata": {
    "collapsed": true
   },
   "outputs": [
    {
     "ename": "NameError",
     "evalue": "name 'Maths' is not defined",
     "output_type": "error",
     "traceback": [
      "\u001b[1;31m---------------------------------------------------------------------------\u001b[0m",
      "\u001b[1;31mNameError\u001b[0m                                 Traceback (most recent call last)",
      "\u001b[1;32m<ipython-input-91-5c9094174790>\u001b[0m in \u001b[0;36m<module>\u001b[1;34m\u001b[0m\n\u001b[0;32m      1\u001b[0m \u001b[1;31m# Namerror\u001b[0m\u001b[1;33m\u001b[0m\u001b[1;33m\u001b[0m\u001b[1;33m\u001b[0m\u001b[0m\n\u001b[0;32m      2\u001b[0m \u001b[1;33m\u001b[0m\u001b[0m\n\u001b[1;32m----> 3\u001b[1;33m \u001b[0mMaths\u001b[0m\u001b[1;33m\u001b[0m\u001b[1;33m\u001b[0m\u001b[0m\n\u001b[0m",
      "\u001b[1;31mNameError\u001b[0m: name 'Maths' is not defined"
     ]
    }
   ],
   "source": [
    "# Namerror\n",
    "\n",
    "Maths"
   ]
  },
  {
   "cell_type": "code",
   "execution_count": 95,
   "metadata": {
    "collapsed": true
   },
   "outputs": [
    {
     "ename": "KeyError",
     "evalue": "'c'",
     "output_type": "error",
     "traceback": [
      "\u001b[1;31m---------------------------------------------------------------------------\u001b[0m",
      "\u001b[1;31mKeyError\u001b[0m                                  Traceback (most recent call last)",
      "\u001b[1;32m<ipython-input-95-f807f058519c>\u001b[0m in \u001b[0;36m<module>\u001b[1;34m\u001b[0m\n\u001b[0;32m      3\u001b[0m \u001b[0mdict1\u001b[0m \u001b[1;33m=\u001b[0m \u001b[0mdict\u001b[0m\u001b[1;33m(\u001b[0m\u001b[1;33m{\u001b[0m\u001b[1;34m'a'\u001b[0m\u001b[1;33m:\u001b[0m\u001b[1;36m1\u001b[0m\u001b[1;33m,\u001b[0m\u001b[1;34m'b'\u001b[0m\u001b[1;33m:\u001b[0m\u001b[1;36m2\u001b[0m\u001b[1;33m}\u001b[0m\u001b[1;33m)\u001b[0m\u001b[1;33m\u001b[0m\u001b[1;33m\u001b[0m\u001b[0m\n\u001b[0;32m      4\u001b[0m \u001b[1;33m\u001b[0m\u001b[0m\n\u001b[1;32m----> 5\u001b[1;33m \u001b[0mdict1\u001b[0m\u001b[1;33m[\u001b[0m\u001b[1;34m'c'\u001b[0m\u001b[1;33m]\u001b[0m\u001b[1;33m\u001b[0m\u001b[1;33m\u001b[0m\u001b[0m\n\u001b[0m",
      "\u001b[1;31mKeyError\u001b[0m: 'c'"
     ]
    }
   ],
   "source": [
    "# Key error\n",
    "\n",
    "dict1 = dict({'a':1,'b':2})\n",
    "\n",
    "dict1['c']"
   ]
  },
  {
   "cell_type": "code",
   "execution_count": 97,
   "metadata": {
    "collapsed": true
   },
   "outputs": [
    {
     "ename": "IndexError",
     "evalue": "list index out of range",
     "output_type": "error",
     "traceback": [
      "\u001b[1;31m---------------------------------------------------------------------------\u001b[0m",
      "\u001b[1;31mIndexError\u001b[0m                                Traceback (most recent call last)",
      "\u001b[1;32m<ipython-input-97-e6e3e26b968c>\u001b[0m in \u001b[0;36m<module>\u001b[1;34m\u001b[0m\n\u001b[0;32m      3\u001b[0m \u001b[0mlist1\u001b[0m \u001b[1;33m=\u001b[0m \u001b[1;33m[\u001b[0m\u001b[1;36m1\u001b[0m\u001b[1;33m,\u001b[0m\u001b[1;36m2\u001b[0m\u001b[1;33m,\u001b[0m\u001b[1;36m3\u001b[0m\u001b[1;33m,\u001b[0m\u001b[1;36m4\u001b[0m\u001b[1;33m]\u001b[0m\u001b[1;33m\u001b[0m\u001b[1;33m\u001b[0m\u001b[0m\n\u001b[0;32m      4\u001b[0m \u001b[1;33m\u001b[0m\u001b[0m\n\u001b[1;32m----> 5\u001b[1;33m \u001b[0mlist1\u001b[0m\u001b[1;33m[\u001b[0m\u001b[1;36m4\u001b[0m\u001b[1;33m]\u001b[0m\u001b[1;33m\u001b[0m\u001b[1;33m\u001b[0m\u001b[0m\n\u001b[0m",
      "\u001b[1;31mIndexError\u001b[0m: list index out of range"
     ]
    }
   ],
   "source": [
    "# Index error\n",
    "\n",
    "list1 = [1,2,3,4]\n",
    "\n",
    "list1[4]"
   ]
  },
  {
   "cell_type": "code",
   "execution_count": 99,
   "metadata": {
    "collapsed": true
   },
   "outputs": [
    {
     "ename": "TypeError",
     "evalue": "unsupported operand type(s) for /: 'str' and 'int'",
     "output_type": "error",
     "traceback": [
      "\u001b[1;31m---------------------------------------------------------------------------\u001b[0m",
      "\u001b[1;31mTypeError\u001b[0m                                 Traceback (most recent call last)",
      "\u001b[1;32m<ipython-input-99-7e36a7469781>\u001b[0m in \u001b[0;36m<module>\u001b[1;34m\u001b[0m\n\u001b[0;32m      3\u001b[0m \u001b[0mstr1\u001b[0m \u001b[1;33m=\u001b[0m \u001b[1;34m'abc'\u001b[0m\u001b[1;33m\u001b[0m\u001b[1;33m\u001b[0m\u001b[0m\n\u001b[0;32m      4\u001b[0m \u001b[1;33m\u001b[0m\u001b[0m\n\u001b[1;32m----> 5\u001b[1;33m \u001b[0mstr1\u001b[0m \u001b[1;33m/\u001b[0m \u001b[1;36m2\u001b[0m\u001b[1;33m\u001b[0m\u001b[1;33m\u001b[0m\u001b[0m\n\u001b[0m",
      "\u001b[1;31mTypeError\u001b[0m: unsupported operand type(s) for /: 'str' and 'int'"
     ]
    }
   ],
   "source": [
    "# Type error\n",
    "\n",
    "str1 = 'abc'\n",
    "\n",
    "str1/2"
   ]
  },
  {
   "cell_type": "markdown",
   "metadata": {},
   "source": [
    "**Lambda**\n",
    "\n",
    "Lambdas are one line functions. They are also known as anonymous functions in some other languages. You might want to use lambdas when you don’t want to use a function twice in a program. They are just like normal functions and even behave like them.\n",
    "\n",
    "* lambda argument: manipulate(argument)**\n",
    "\n",
    "* : will be divider between input &  output paraameters\n",
    "\n",
    "* left side values will be input arguments & right side will be output arguments (computation expression)\n",
    "\n",
    "* single value (data value/  data structure) as output"
   ]
  },
  {
   "cell_type": "code",
   "execution_count": 63,
   "metadata": {
    "scrolled": true
   },
   "outputs": [
    {
     "data": {
      "text/plain": [
       "243"
      ]
     },
     "execution_count": 63,
     "metadata": {},
     "output_type": "execute_result"
    }
   ],
   "source": [
    "add = lambda x, y : x**y\n",
    "\n",
    "add(x= 3, y = 5)"
   ]
  },
  {
   "cell_type": "code",
   "execution_count": 67,
   "metadata": {},
   "outputs": [
    {
     "name": "stdout",
     "output_type": "stream",
     "text": [
      "[(13, -3), (4, 1), (1, 2), (9, 10)]\n"
     ]
    }
   ],
   "source": [
    "# List Sorting \n",
    "\n",
    "a = [(1, 2), (4, 1), (9, 10), (13, -3)]\n",
    "\n",
    "a.sort(key = lambda x: x[1])\n",
    "\n",
    "print(a)"
   ]
  },
  {
   "cell_type": "markdown",
   "metadata": {},
   "source": [
    "### Comprehensions\n",
    "\n",
    "Comprehensions are constructs that allow sequences to be built from other sequences. \n",
    "\n",
    "* list comprehensions\n",
    "* dictionary comprehensions\n",
    "* set comprehensions\n",
    "* generator comprehensions"
   ]
  },
  {
   "cell_type": "markdown",
   "metadata": {},
   "source": [
    "**1.list comprehensions**\n",
    "\n",
    "List comprehensions provide a short and concise way to create lists. It consists of square brackets containing an expression followed by a ***for*** clause, then zero or more for or if clauses. The expressions can be anything, meaning you can put in all kinds of objects in lists. The result would be a new list made after the evaluation of the expression in context of the if and for clauses.\n",
    "\n",
    "variable = [out_exp **for** num in input_list **if** num == 2]"
   ]
  },
  {
   "cell_type": "markdown",
   "metadata": {},
   "source": [
    "[Computation for num in list1 if condition]"
   ]
  },
  {
   "cell_type": "code",
   "execution_count": 101,
   "metadata": {
    "scrolled": true
   },
   "outputs": [
    {
     "data": {
      "text/plain": [
       "[0, 2, 4, 6, 8]"
      ]
     },
     "execution_count": 101,
     "metadata": {},
     "output_type": "execute_result"
    }
   ],
   "source": [
    "list_10 = list(range(10))\n",
    "\n",
    "[i for i in list_10 if i%2== 0]"
   ]
  },
  {
   "cell_type": "code",
   "execution_count": 103,
   "metadata": {},
   "outputs": [
    {
     "data": {
      "text/plain": [
       "[1, 0, 1, 0, 1, 0, 1, 0, 1, 0]"
      ]
     },
     "execution_count": 103,
     "metadata": {},
     "output_type": "execute_result"
    }
   ],
   "source": [
    "# For if else\n",
    "\n",
    "[1 if i%2== 0 else 0 for i in list_10]"
   ]
  },
  {
   "cell_type": "code",
   "execution_count": 78,
   "metadata": {},
   "outputs": [
    {
     "name": "stdout",
     "output_type": "stream",
     "text": [
      "[0, 2, 4, 6, 8, 10, 12, 14, 16, 18, 20, 22, 24, 26, 28]\n"
     ]
    }
   ],
   "source": [
    "multiples = [i for i in range(30) if i % 2 == 0]\n",
    "\n",
    "print(multiples)"
   ]
  },
  {
   "cell_type": "code",
   "execution_count": 104,
   "metadata": {},
   "outputs": [],
   "source": [
    "result = []\n",
    "\n",
    "for i in range(30):\n",
    "    \n",
    "    if i % 2 == 0:\n",
    "    \n",
    "        result.append(i)"
   ]
  },
  {
   "cell_type": "markdown",
   "metadata": {},
   "source": [
    "This can be really useful to make lists quickly. It is even preferred by some instead of the filter function. List comprehensions really shine when you want to supply a list to a method or function to make a new list by appending to it in each iteration of the for loop. For instance you would usually do something like this:"
   ]
  },
  {
   "cell_type": "code",
   "execution_count": 74,
   "metadata": {},
   "outputs": [],
   "source": [
    "num_list = list(range(10))\n",
    "\n",
    "squared = []\n",
    "\n",
    "for x in num_list:\n",
    "    \n",
    "    squared.append(x**2)"
   ]
  },
  {
   "cell_type": "code",
   "execution_count": 76,
   "metadata": {},
   "outputs": [],
   "source": [
    "squared_com = [x**2 for x in num_list]"
   ]
  },
  {
   "cell_type": "markdown",
   "metadata": {},
   "source": [
    "**2. Dict Comprehension**\n",
    "\n",
    "In this dict comprehension, we are combining the values of keys which are same but in different typecase. I personally do not use dict comprehensions a lot. You can also quickly switch keys and values of a dictionary:\n",
    "\n",
    "{v: k for k, v in some_dict.items()}"
   ]
  },
  {
   "cell_type": "code",
   "execution_count": 83,
   "metadata": {},
   "outputs": [],
   "source": [
    "dict1 = dict({'a': 2, 'b':3, 'c' : 5})"
   ]
  },
  {
   "cell_type": "code",
   "execution_count": 84,
   "metadata": {},
   "outputs": [
    {
     "data": {
      "text/plain": [
       "{'a': 4, 'b': 6, 'c': 10}"
      ]
     },
     "execution_count": 84,
     "metadata": {},
     "output_type": "execute_result"
    }
   ],
   "source": [
    "{k: v*2 for k,v in dict1.items()}"
   ]
  },
  {
   "cell_type": "code",
   "execution_count": 86,
   "metadata": {
    "scrolled": true
   },
   "outputs": [
    {
     "data": {
      "text/plain": [
       "{'a': 4}"
      ]
     },
     "execution_count": 86,
     "metadata": {},
     "output_type": "execute_result"
    }
   ],
   "source": [
    "{k: v *2 for k,v in dict1.items() if k == 'a'}"
   ]
  },
  {
   "cell_type": "code",
   "execution_count": 88,
   "metadata": {},
   "outputs": [
    {
     "data": {
      "text/plain": [
       "{'a': 4, 'b': 6}"
      ]
     },
     "execution_count": 88,
     "metadata": {},
     "output_type": "execute_result"
    }
   ],
   "source": [
    "# 'in' keyword can be used to compare multiple values\n",
    "\n",
    "{k: v *2 for k,v in dict1.items() if k in ('a', 'b')}"
   ]
  },
  {
   "cell_type": "markdown",
   "metadata": {},
   "source": [
    "**3. Set Comprehension**\n",
    "\n",
    "They are also similar to list comprehensions. The only difference is that they use braces {}. Here is an example:"
   ]
  },
  {
   "cell_type": "code",
   "execution_count": 89,
   "metadata": {},
   "outputs": [
    {
     "name": "stdout",
     "output_type": "stream",
     "text": [
      "{1, 4}\n"
     ]
    }
   ],
   "source": [
    "squared = {x**2 for x in [1, 1, 2]}\n",
    "\n",
    "print(squared)"
   ]
  },
  {
   "cell_type": "markdown",
   "metadata": {},
   "source": [
    "**generator comprehensions**\n",
    "\n",
    "They are also similar to list comprehensions. The only difference is that they don’t allocate memory for the whole list but generate one item at a time, thus more memory efficient."
   ]
  },
  {
   "cell_type": "code",
   "execution_count": 157,
   "metadata": {},
   "outputs": [
    {
     "name": "stdout",
     "output_type": "stream",
     "text": [
      "<generator object <genexpr> at 0x000001AC04882AC0>\n"
     ]
    }
   ],
   "source": [
    "multiples_gen = (i for i in range(30) if i % 3 == 0)\n",
    "\n",
    "print(multiples_gen)"
   ]
  },
  {
   "cell_type": "code",
   "execution_count": 158,
   "metadata": {},
   "outputs": [],
   "source": [
    "iterable_gen = iter(multiples_gen)"
   ]
  },
  {
   "cell_type": "code",
   "execution_count": 169,
   "metadata": {
    "collapsed": true
   },
   "outputs": [
    {
     "ename": "StopIteration",
     "evalue": "",
     "output_type": "error",
     "traceback": [
      "\u001b[1;31m---------------------------------------------------------------------------\u001b[0m",
      "\u001b[1;31mStopIteration\u001b[0m                             Traceback (most recent call last)",
      "\u001b[1;32m<ipython-input-169-8f716849fb9a>\u001b[0m in \u001b[0;36m<module>\u001b[1;34m\u001b[0m\n\u001b[1;32m----> 1\u001b[1;33m \u001b[0mnext\u001b[0m\u001b[1;33m(\u001b[0m\u001b[0mmultiples_gen\u001b[0m\u001b[1;33m)\u001b[0m\u001b[1;33m\u001b[0m\u001b[1;33m\u001b[0m\u001b[0m\n\u001b[0m",
      "\u001b[1;31mStopIteration\u001b[0m: "
     ]
    }
   ],
   "source": [
    "next(multiples_gen)"
   ]
  },
  {
   "cell_type": "code",
   "execution_count": 143,
   "metadata": {
    "collapsed": true
   },
   "outputs": [
    {
     "name": "stdout",
     "output_type": "stream",
     "text": [
      "3\n",
      "6\n",
      "9\n",
      "12\n",
      "15\n",
      "18\n",
      "21\n",
      "24\n",
      "27\n"
     ]
    }
   ],
   "source": [
    "for x in multiples_gen:\n",
    "    \n",
    "    print(x)"
   ]
  },
  {
   "cell_type": "markdown",
   "metadata": {},
   "source": [
    "**Enumerate**\n",
    "\n",
    "* Enumerate helps to provide the range of numbers in the loops"
   ]
  },
  {
   "cell_type": "code",
   "execution_count": 205,
   "metadata": {
    "collapsed": true
   },
   "outputs": [
    {
     "name": "stdout",
     "output_type": "stream",
     "text": [
      "0 5\n",
      "1 6\n",
      "2 7\n"
     ]
    }
   ],
   "source": [
    "for i, j in enumerate([5,6,7]):\n",
    "    \n",
    "    print(i,j)"
   ]
  },
  {
   "cell_type": "markdown",
   "metadata": {},
   "source": [
    "* Zip \n",
    "\n",
    "* Zip function helps to loop two data structures  parallely (not only restrictive two ds, can be multiple)"
   ]
  },
  {
   "cell_type": "code",
   "execution_count": 220,
   "metadata": {},
   "outputs": [],
   "source": [
    "# list1 = 'data'\n",
    "# list2 = 'DATA'\n",
    "\n",
    "list1 = [1,2,3,4]\n",
    "list2 = [5,6,7,8]\n",
    "\n",
    "result_list= []\n",
    "\n",
    "for i,j in zip(list1, list2):\n",
    "    \n",
    "    #storing the values in the list\n",
    "    result_list.append(j + i)"
   ]
  },
  {
   "cell_type": "markdown",
   "metadata": {},
   "source": [
    "**Module**"
   ]
  },
  {
   "cell_type": "markdown",
   "metadata": {},
   "source": [
    "* A module allows you to logically organize your Python code. Grouping related code into a module makes the code easier to understand and use. A module is a Python object with arbitrarily named attributes that you can bind and reference.\n",
    "\n",
    "* Simply, a module is a file consisting of Python code. A module can define functions, classes and variables. A module can also include runnable code.\n",
    "\n",
    "* You can use any Python source file as a module by executing an import statement in some other Python source file. The import has the following syntax −\n",
    "\n",
    "* When the interpreter encounters an import statement, it imports the module if the module is present in the search path. A search path is a list of directories that the interpreter searches before importing a module. For example, to import the module support.py, you need to put the following command at the top of the script −"
   ]
  },
  {
   "cell_type": "markdown",
   "metadata": {},
   "source": [
    "Here's an example of a simple module, module1.py\n",
    "\n",
    "def print_func( num ):\\\n",
    "    print(num) \\\n",
    "    return num + 2\n",
    "    "
   ]
  },
  {
   "cell_type": "markdown",
   "metadata": {},
   "source": [
    "Python's from statement lets you import specific attributes from a module into the current namespace. The from...import has the following syntax −"
   ]
  },
  {
   "cell_type": "markdown",
   "metadata": {},
   "source": [
    "For example, to import the function fibonacci from the module fib, use the following statement −"
   ]
  },
  {
   "cell_type": "code",
   "execution_count": 258,
   "metadata": {},
   "outputs": [],
   "source": [
    "from module1 import print_func"
   ]
  },
  {
   "cell_type": "code",
   "execution_count": 262,
   "metadata": {
    "collapsed": true
   },
   "outputs": [
    {
     "name": "stdout",
     "output_type": "stream",
     "text": [
      "2\n"
     ]
    }
   ],
   "source": [
    "result = print_func(2)"
   ]
  },
  {
   "cell_type": "markdown",
   "metadata": {},
   "source": [
    "This statement does not import the entire module fib into the current namespace; it just introduces the item fibonacci from the module fib into the global symbol table of the importing module."
   ]
  },
  {
   "cell_type": "markdown",
   "metadata": {},
   "source": [
    "It is also possible to import all names from a module into the current namespace by using the following import statement −\n",
    "\n",
    "from modname import *  \n",
    "\n",
    "This provides an easy way to import all the items from a module into the current namespace; however, this statement should be used sparingly."
   ]
  },
  {
   "cell_type": "code",
   "execution_count": 265,
   "metadata": {},
   "outputs": [],
   "source": [
    "from module1 import *"
   ]
  },
  {
   "cell_type": "code",
   "execution_count": 270,
   "metadata": {},
   "outputs": [],
   "source": [
    "# Not recommended\n",
    "\n",
    "from Arithmetic_Module import *"
   ]
  },
  {
   "cell_type": "code",
   "execution_count": 274,
   "metadata": {},
   "outputs": [],
   "source": [
    "from  Arithmetic_Module import sub, add"
   ]
  },
  {
   "cell_type": "code",
   "execution_count": 273,
   "metadata": {},
   "outputs": [
    {
     "data": {
      "text/plain": [
       "-1"
      ]
     },
     "execution_count": 273,
     "metadata": {},
     "output_type": "execute_result"
    }
   ],
   "source": [
    "sub(4,5)"
   ]
  },
  {
   "cell_type": "markdown",
   "metadata": {},
   "source": [
    "Naming a Module\n",
    "You can name the module file whatever you like, but it must have the file extension .py"
   ]
  },
  {
   "cell_type": "markdown",
   "metadata": {},
   "source": [
    "Re-naming a Module\n",
    "You can create an alias when you import a module, by using the as keyword:"
   ]
  },
  {
   "cell_type": "code",
   "execution_count": 276,
   "metadata": {
    "scrolled": true
   },
   "outputs": [
    {
     "name": "stdout",
     "output_type": "stream",
     "text": [
      "2\n"
     ]
    },
    {
     "data": {
      "text/plain": [
       "4"
      ]
     },
     "execution_count": 276,
     "metadata": {},
     "output_type": "execute_result"
    }
   ],
   "source": [
    "from module1 import print_func as pf\n",
    "\n",
    "pf(2)"
   ]
  },
  {
   "cell_type": "code",
   "execution_count": 280,
   "metadata": {},
   "outputs": [],
   "source": [
    "from Arithmetic_Module import add as A, sub as S"
   ]
  },
  {
   "cell_type": "code",
   "execution_count": 281,
   "metadata": {},
   "outputs": [
    {
     "data": {
      "text/plain": [
       "3"
      ]
     },
     "execution_count": 281,
     "metadata": {},
     "output_type": "execute_result"
    }
   ],
   "source": [
    "A(1,2)"
   ]
  },
  {
   "cell_type": "code",
   "execution_count": 282,
   "metadata": {},
   "outputs": [
    {
     "data": {
      "text/plain": [
       "-1"
      ]
     },
     "execution_count": 282,
     "metadata": {},
     "output_type": "execute_result"
    }
   ],
   "source": [
    "S(4,5)"
   ]
  },
  {
   "cell_type": "code",
   "execution_count": 285,
   "metadata": {},
   "outputs": [],
   "source": [
    "import builtins"
   ]
  },
  {
   "cell_type": "code",
   "execution_count": 286,
   "metadata": {},
   "outputs": [],
   "source": [
    "from builtins import sum"
   ]
  },
  {
   "cell_type": "code",
   "execution_count": 289,
   "metadata": {},
   "outputs": [
    {
     "data": {
      "text/plain": [
       "23"
      ]
     },
     "execution_count": 289,
     "metadata": {},
     "output_type": "execute_result"
    }
   ],
   "source": [
    "#\n",
    "builtins.abs(-23)"
   ]
  },
  {
   "cell_type": "code",
   "execution_count": 291,
   "metadata": {},
   "outputs": [
    {
     "data": {
      "text/plain": [
       "10"
      ]
     },
     "execution_count": 291,
     "metadata": {},
     "output_type": "execute_result"
    }
   ],
   "source": [
    "builtins.round(10.23)"
   ]
  },
  {
   "cell_type": "code",
   "execution_count": 287,
   "metadata": {
    "scrolled": true
   },
   "outputs": [
    {
     "data": {
      "text/plain": [
       "35"
      ]
     },
     "execution_count": 287,
     "metadata": {},
     "output_type": "execute_result"
    }
   ],
   "source": [
    "sum([12,23])"
   ]
  },
  {
   "cell_type": "code",
   "execution_count": 298,
   "metadata": {},
   "outputs": [],
   "source": [
    "import math\n",
    "\n",
    "from math import floor"
   ]
  },
  {
   "cell_type": "code",
   "execution_count": 299,
   "metadata": {},
   "outputs": [
    {
     "data": {
      "text/plain": [
       "1"
      ]
     },
     "execution_count": 299,
     "metadata": {},
     "output_type": "execute_result"
    }
   ],
   "source": [
    "floor(1.9)"
   ]
  },
  {
   "cell_type": "code",
   "execution_count": 297,
   "metadata": {},
   "outputs": [
    {
     "data": {
      "text/plain": [
       "1"
      ]
     },
     "execution_count": 297,
     "metadata": {},
     "output_type": "execute_result"
    }
   ],
   "source": [
    "math.floor(1.9)"
   ]
  },
  {
   "cell_type": "code",
   "execution_count": 296,
   "metadata": {
    "scrolled": true
   },
   "outputs": [
    {
     "data": {
      "text/plain": [
       "2"
      ]
     },
     "execution_count": 296,
     "metadata": {},
     "output_type": "execute_result"
    }
   ],
   "source": [
    "math.ceil(1.1)"
   ]
  },
  {
   "cell_type": "markdown",
   "metadata": {},
   "source": [
    "#### Docstring\n",
    "\n",
    "Docstring - documenting the functionality of particular function\n",
    "\n",
    "\"\"\"\n",
    "Docstring : Function adds two integers\n",
    "\"\"\""
   ]
  },
  {
   "cell_type": "code",
   "execution_count": 302,
   "metadata": {},
   "outputs": [],
   "source": [
    "from arithmetic_module import add"
   ]
  },
  {
   "cell_type": "code",
   "execution_count": 303,
   "metadata": {},
   "outputs": [
    {
     "data": {
      "text/plain": [
       "5"
      ]
     },
     "execution_count": 303,
     "metadata": {},
     "output_type": "execute_result"
    }
   ],
   "source": [
    "add(2,3)"
   ]
  },
  {
   "cell_type": "markdown",
   "metadata": {},
   "source": [
    "#### Locating Modules\n",
    "\n",
    "* When you import a module, the Python interpreter searches for the module in the following sequences −\n",
    "\n",
    "* The current directory.\n",
    "\n",
    "* If the module isn't found, Python then searches each directory in the shell variable **PYTHONPATH**.\n",
    "\n",
    "* If all else fails, Python checks the default path. On UNIX, this default path is normally /usr/local/lib/python/.\n",
    "\n",
    "* The module search path is stored in the system module sys as the sys.path variable. The sys.path variable contains the current directory, PYTHONPATH, and the installation-dependent default."
   ]
  },
  {
   "cell_type": "markdown",
   "metadata": {},
   "source": [
    "* How to Take Input from User in Python\n",
    "* Sometimes a developer might want to take user input at some point in the program. \n",
    "* To do this Python provides an input() function."
   ]
  },
  {
   "cell_type": "code",
   "execution_count": 311,
   "metadata": {},
   "outputs": [
    {
     "name": "stdout",
     "output_type": "stream",
     "text": [
      "Provide the ID:2\n"
     ]
    }
   ],
   "source": [
    "input_id = int(input(\"Provide the ID:\"))\n",
    "\n",
    "if input_id == 1:\n",
    "    \n",
    "    print(\"ID is present\")"
   ]
  },
  {
   "cell_type": "markdown",
   "metadata": {},
   "source": [
    "### Read / Write Files "
   ]
  },
  {
   "cell_type": "markdown",
   "metadata": {},
   "source": [
    "Reading The files from local directory"
   ]
  },
  {
   "cell_type": "code",
   "execution_count": null,
   "metadata": {},
   "outputs": [],
   "source": [
    "file = open(file_path,'w')\n",
    "\n",
    "file.write(\"Rewritten V2\")\n",
    "\n",
    "file.close()"
   ]
  },
  {
   "cell_type": "code",
   "execution_count": 312,
   "metadata": {},
   "outputs": [],
   "source": [
    "def sum_numbers(file_path):\n",
    "    \n",
    "    output_lines = []\n",
    "    \n",
    "    with open(file_path,\"r\") as f:\n",
    "        file = f.read()\n",
    "\n",
    "    with open(file_path,\"w\") as f:\n",
    "        f.writelines(output_lines)"
   ]
  },
  {
   "cell_type": "code",
   "execution_count": 332,
   "metadata": {},
   "outputs": [],
   "source": [
    "## Context Manager  Where with will be keyword &  it will closes the opened file after excuting all the codes within the block\n",
    "\n",
    "with open(file_path,\"w\") as f:\n",
    "    \n",
    "    output_lines = \"file is re-written\"\n",
    "    \n",
    "    f.write(output_lines)"
   ]
  },
  {
   "cell_type": "code",
   "execution_count": 334,
   "metadata": {},
   "outputs": [],
   "source": [
    "##Path should be always in  forward  slash or r' should be added in the prefix which means raw \n",
    "\n",
    "file_path = r\"C:/Users/91894/Desktop/DS_Course/Python Notebook/file1.txt\"\n",
    "\n",
    "with open(file_path,\"r\") as f:\n",
    "    \n",
    "    file = f.read()"
   ]
  },
  {
   "cell_type": "code",
   "execution_count": 335,
   "metadata": {},
   "outputs": [
    {
     "name": "stdout",
     "output_type": "stream",
     "text": [
      "file is re-written\n"
     ]
    }
   ],
   "source": [
    "print(file)"
   ]
  },
  {
   "cell_type": "markdown",
   "metadata": {},
   "source": [
    "### OS Module\n",
    "\n",
    "OS - Will be helpful in working  with local  directories & all other system related autommation"
   ]
  },
  {
   "cell_type": "code",
   "execution_count": 338,
   "metadata": {},
   "outputs": [],
   "source": [
    "import os"
   ]
  },
  {
   "cell_type": "code",
   "execution_count": 340,
   "metadata": {
    "collapsed": true
   },
   "outputs": [
    {
     "data": {
      "text/plain": [
       "['.ipynb_checkpoints',\n",
       " 'arithmetic_module.py',\n",
       " 'file1.txt',\n",
       " 'module1.py',\n",
       " 'Python- Intro_20_06_23.ipynb',\n",
       " 'Python_Notebook.ipynb',\n",
       " 'Untitled Folder',\n",
       " 'Untitled.ipynb',\n",
       " '__pycache__']"
      ]
     },
     "execution_count": 340,
     "metadata": {},
     "output_type": "execute_result"
    }
   ],
   "source": [
    "os.listdir(r\"C:\\Users\\91894\\Desktop\\DS_Course\\Python Notebook\")"
   ]
  },
  {
   "cell_type": "code",
   "execution_count": 342,
   "metadata": {},
   "outputs": [],
   "source": [
    "os.makedirs(r\"C:\\Users\\91894\\Desktop\\DS_Course\\Python Notebook\\test_dir_2\")"
   ]
  },
  {
   "cell_type": "code",
   "execution_count": 343,
   "metadata": {},
   "outputs": [
    {
     "data": {
      "text/plain": [
       "'C:\\\\Users\\\\91894\\\\Desktop\\\\DS_Course\\\\Python Notebook'"
      ]
     },
     "execution_count": 343,
     "metadata": {},
     "output_type": "execute_result"
    }
   ],
   "source": [
    "os.getcwd()"
   ]
  },
  {
   "cell_type": "code",
   "execution_count": 344,
   "metadata": {},
   "outputs": [],
   "source": [
    "os.removedirs(r\"C:\\Users\\91894\\Desktop\\DS_Course\\Python Notebook\\test_dir_2\")"
   ]
  },
  {
   "cell_type": "markdown",
   "metadata": {},
   "source": [
    "Exception handling with try, except, else, and finally\n",
    "* Try: This block will test the excepted error to occur\n",
    "* Except:  Here you can handle the error\n",
    "* Else: If there is no exception then this block will be executed\n",
    "* Finally: Finally block always gets executed either exception is generated or not"
   ]
  },
  {
   "cell_type": "code",
   "execution_count": 351,
   "metadata": {
    "scrolled": true
   },
   "outputs": [
    {
     "name": "stdout",
     "output_type": "stream",
     "text": [
      "Found the file\n"
     ]
    }
   ],
   "source": [
    "def process_file():\n",
    "    \n",
    "    try:\n",
    "        \n",
    "        f=open(\"C:/Users/91894/Desktop/DS_Course/Python Notebook/file1.txt\")\n",
    "        \n",
    "        x = 1/10\n",
    "        \n",
    "        print(\"Found the file\")\n",
    "        \n",
    "    except FileNotFoundError as e:\n",
    "        \n",
    "        print(\"File Not Found\")\n",
    "    \n",
    "#     finally:\n",
    "        \n",
    "#         print(\"cleaning up file\")\n",
    "        \n",
    "#       f.close()\n",
    "\n",
    "process_file()"
   ]
  },
  {
   "cell_type": "markdown",
   "metadata": {},
   "source": [
    "### Date Time Data"
   ]
  },
  {
   "cell_type": "code",
   "execution_count": null,
   "metadata": {},
   "outputs": [],
   "source": [
    "import datetime\n",
    "import pytz"
   ]
  },
  {
   "cell_type": "code",
   "execution_count": 358,
   "metadata": {},
   "outputs": [],
   "source": [
    "# Naive\n",
    "# d = datetime.date(2001, 9, 11)\n",
    "\n",
    "tday = datetime.date.today()"
   ]
  },
  {
   "cell_type": "code",
   "execution_count": null,
   "metadata": {},
   "outputs": [],
   "source": [
    "# weekday() - Monday is 0 and Sunday is 6\n",
    "# print(tday)\n",
    "\n",
    "# isoweekday() - Monday is 1 and Sunday is 7\n",
    "# print(tday)\n",
    "\n",
    "\n",
    "# datetime.timedelta(days=0, seconds=0, microseconds=0, milliseconds=0, minutes=0, hours=0, weeks=0)\n",
    "\n",
    "tdelta = datetime.timedelta(hours=12)"
   ]
  },
  {
   "cell_type": "code",
   "execution_count": 359,
   "metadata": {},
   "outputs": [],
   "source": [
    "# print(tday + tdelta)\n",
    "\n",
    "# date2 = date1 + timedelta\n",
    "# timedelta = date1 + date2\n",
    "\n",
    "bday = datetime.date(2016, 9, 24)\n",
    "\n",
    "till_bday = bday - tday"
   ]
  },
  {
   "cell_type": "code",
   "execution_count": null,
   "metadata": {},
   "outputs": [],
   "source": [
    "# print(till_bday.days)\n",
    "\n",
    "t = datetime.time(9, 30, 45, 100000)\n",
    "\n",
    "# dt = datetime.datetime.today()\n",
    "# dtnow = datetime.datetime.now()\n",
    "# print(dir(datetime.datetime))\n",
    "# print(dt)\n",
    "# print(dtnow)"
   ]
  },
  {
   "cell_type": "code",
   "execution_count": 364,
   "metadata": {},
   "outputs": [
    {
     "name": "stdout",
     "output_type": "stream",
     "text": [
      "2016-07-24 12:30:45+00:00\n"
     ]
    }
   ],
   "source": [
    "dt = datetime.datetime(2016, 7, 24, 12, 30, 45, tzinfo=pytz.UTC)\n",
    "\n",
    "print((dt))"
   ]
  },
  {
   "cell_type": "code",
   "execution_count": 366,
   "metadata": {},
   "outputs": [
    {
     "name": "stdout",
     "output_type": "stream",
     "text": [
      "2023-07-03 15:40:22.651584+00:00\n"
     ]
    }
   ],
   "source": [
    "dt_utcnow = datetime.datetime.now(tz=pytz.UTC)\n",
    "\n",
    "print(dt_utcnow)"
   ]
  },
  {
   "cell_type": "code",
   "execution_count": 367,
   "metadata": {},
   "outputs": [],
   "source": [
    "dt_utcnow2 = datetime.datetime.utcnow().replace(tzinfo=pytz.UTC)\n",
    "# print(dt_utcnow2)"
   ]
  },
  {
   "cell_type": "code",
   "execution_count": null,
   "metadata": {},
   "outputs": [],
   "source": [
    "# dt_mtn = dt_utcnow.astimezone(pytz.timezone('US/Mountain'))\n",
    "# print(dt_mtn)\n",
    "\n",
    "dt_mtn = datetime.datetime.now()\n",
    "\n",
    "mtn_tz = pytz.timezone('US/Mountain')\n",
    "dt_mtn = mtn_tz.localize(dt_mtn)\n",
    "\n",
    "# print(dt_mtn)\n",
    "\n",
    "dt_east = dt_mtn.astimezone(pytz.timezone('US/Eastern'))\n",
    "# print(dt_east)\n",
    "\n",
    "print(dt_mtn.strftime('%B %d, %Y'))\n",
    "\n",
    "dt_str = 'July 24, 2016'\n",
    "dt = datetime.datetime.strptime(dt_str, '%B %d, %Y')\n",
    "print(dt)"
   ]
  },
  {
   "cell_type": "code",
   "execution_count": 368,
   "metadata": {},
   "outputs": [],
   "source": [
    "# strftime - Datetime to String\n",
    "\n",
    "# strptime - String to Datetime"
   ]
  },
  {
   "cell_type": "code",
   "execution_count": 388,
   "metadata": {},
   "outputs": [],
   "source": [
    "str_object = \"12-Jan-2022 12:45:10\"\n",
    "\n",
    "date_object = datetime.datetime.strptime(str_object, '%d-%b-%Y %H:%M:%S')"
   ]
  },
  {
   "cell_type": "code",
   "execution_count": 405,
   "metadata": {},
   "outputs": [],
   "source": [
    "## find the mininum value in the list of values\n",
    "\n",
    "a = [2,10,5,1, -2]\n",
    "\n",
    "#Pseudo Code (Plain english)\n",
    "\n",
    "# assign dummy variable\n",
    "# i will loop the list\n",
    "# each loop i will compare with  dummay variable and if that element is lesser than dummy \n",
    "# then i will reassign the dummay with this min value\n",
    "# Will repeat this until the loop ends\n",
    "\n",
    "min_val = a[0]\n",
    "\n",
    "for i in a:\n",
    "    if  i < min_val:  \n",
    "        min_val = i"
   ]
  },
  {
   "cell_type": "code",
   "execution_count": 404,
   "metadata": {},
   "outputs": [
    {
     "data": {
      "text/plain": [
       "-2"
      ]
     },
     "execution_count": 404,
     "metadata": {},
     "output_type": "execute_result"
    }
   ],
   "source": [
    "min_val"
   ]
  }
 ],
 "metadata": {
  "kernelspec": {
   "display_name": "Python 3",
   "language": "python",
   "name": "python3"
  },
  "language_info": {
   "codemirror_mode": {
    "name": "ipython",
    "version": 3
   },
   "file_extension": ".py",
   "mimetype": "text/x-python",
   "name": "python",
   "nbconvert_exporter": "python",
   "pygments_lexer": "ipython3",
   "version": "3.8.3"
  }
 },
 "nbformat": 4,
 "nbformat_minor": 4
}
